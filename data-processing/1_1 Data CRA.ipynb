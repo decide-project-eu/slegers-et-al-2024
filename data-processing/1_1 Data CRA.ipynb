{
 "cells": [
  {
   "cell_type": "code",
   "execution_count": 0,
   "metadata": {
    "application/vnd.databricks.v1+cell": {
     "cellMetadata": {
      "byteLimit": 2048000,
      "rowLimit": 10000
     },
     "inputWidgets": {},
     "nuid": "5be7293e-8676-4958-8e40-930527c7bc73",
     "showTitle": false,
     "title": ""
    }
   },
   "outputs": [],
   "source": [
    "%scala\n",
    "spark.sparkContext.hadoopConfiguration.set(\"<directory>", "<key>")"
   ]
  },
  {
   "cell_type": "code",
   "execution_count": 0,
   "metadata": {
    "application/vnd.databricks.v1+cell": {
     "cellMetadata": {
      "byteLimit": 2048000,
      "rowLimit": 10000
     },
     "inputWidgets": {},
     "nuid": "62d273d8-072e-4985-8768-2436e809f143",
     "showTitle": false,
     "title": ""
    }
   },
   "outputs": [],
   "source": [
    "from pyspark.sql import functions as F\n",
    "from pyspark.sql import Row, Column\n",
    "from pyspark.sql.types import ArrayType, StringType, StructType, StructField, DoubleType, TimestampType, FloatType, IntegerType\n",
    "from datetime import datetime\n",
    "from pyspark.sql.window import Window\n",
    "\n",
    "# Event struct schema:\n",
    "struct1 = StructType([\n",
    "    StructField(\"EventDate\", TimestampType(), True), \n",
    "    StructField(\"EventType\", StringType(), True),\n",
    "    StructField(\"MetaData\", StructType([\n",
    "        StructField(\"ChoiceAntibiotics\", StringType(), True),\n",
    "        StructField(\"CompanyType\", StringType(), True),\n",
    "        StructField(\"ContactDate\", TimestampType(), True),\n",
    "        StructField(\"DiagnosisCode\", StringType(), True),\n",
    "        StructField(\"DiagnosisGroup\", StringType(), True),\n",
    "        StructField(\"DrugActiveSubstance\", StringType(), True),\n",
    "        StructField(\"DrugDescription\", StringType(), True),\n",
    "        StructField(\"DrugIdentification\", StringType(), True),\n",
    "        StructField(\"EtiologyCode\", StringType(), True),\n",
    "        StructField(\"FlockPresentationIdentification\", StringType(), True),\n",
    "        StructField(\"IsAntibiotics\", StringType(), True),\n",
    "        StructField(\"KilogramsTreated\", DoubleType(), True),\n",
    "        StructField(\"Note\", StringType(), True),\n",
    "        StructField(\"NumberSupplied\", IntegerType(), True),\n",
    "        StructField(\"PostalCode\", StringType(), True),\n",
    "        StructField(\"PoultryFarmIdentification\", StringType(), True),\n",
    "        StructField(\"Presentation\", StringType(), True),\n",
    "        StructField(\"PresentationCategory\", StringType(), True),\n",
    "        StructField(\"ProductName\", StringType(), True),\n",
    "        StructField(\"SubscriptionIdentification\", StringType(), True),\n",
    "        StructField(\"TreatmentDays\", FloatType(), True),\n",
    "        StructField(\"TreatmentDosage\", IntegerType(), True),\n",
    "        StructField(\"TreatmentDosageUnit\", StringType(), True),\n",
    "        StructField(\"TreatmentStartDate\", TimestampType(), True),\n",
    "        StructField(\"VetId\", StringType(), True),\n",
    "        StructField(\"VeterinarianNumber\", StringType(), True),\n",
    "        StructField(\"AgeAtSlaughter\", IntegerType(), True),\n",
    "        StructField(\"Breed\", StringType(), True),\n",
    "        StructField(\"BreedCode\", StringType(), True),\n",
    "        StructField(\"BreedDescription\", StringType(), True),\n",
    "        StructField(\"Category\", StringType(), True),\n",
    "        StructField(\"DeliveryType\", StringType(), True),\n",
    "        StructField(\"DestinationCompanyType\", StringType(), True),\n",
    "        StructField(\"FarmerIdentification\", StringType(), True),\n",
    "        StructField(\"FlockIdentification\", StringType(), True),\n",
    "        StructField(\"FootpadLesionScores\", IntegerType(), True),\n",
    "        StructField(\"GrowthCurve\", StringType(), True),\n",
    "        StructField(\"HatchDateKIP\", TimestampType(), True),\n",
    "        StructField(\"KIPNumberDestination\", StringType(), True),\n",
    "        StructField(\"MonitoringExecutor\", StringType(), True),\n",
    "        StructField(\"Mortality\", FloatType(), True),\n",
    "        StructField(\"MoveDate\", TimestampType(), True),\n",
    "        StructField(\"MoveType\", StringType(), True),\n",
    "        StructField(\"NumberOfLifeDays\", StringType(), True),\n",
    "        StructField(\"NumberPlaced\", StringType(), True),\n",
    "        StructField(\"PenIdentification\", StringType(), True),\n",
    "        StructField(\"PlacementDate\", StringType(), True),\n",
    "        StructField(\"PlannedRemovalDate\", StringType(), True),\n",
    "        StructField(\"RemovalDate\", StringType(), True),\n",
    "        StructField(\"Round\", StringType(), True),\n",
    "        StructField(\"SlaughterDate\", TimestampType(), True),\n",
    "        StructField(\"Thinned\", StringType(), True),\n",
    "        StructField(\"Type\", StringType(), True),\n",
    "        StructField(\"Unsexed\", IntegerType(), True),\n",
    "        StructField(\"Weight\", IntegerType(), True),\n",
    "        StructField(\"HatchDate\", TimestampType(), True)\n",
    "    ]), False)\n",
    "])\n",
    "\n",
    "SortedStruct = StructType(sorted(struct1, key=lambda f: f.name))"
   ]
  },
  {
   "cell_type": "code",
   "execution_count": 0,
   "metadata": {
    "application/vnd.databricks.v1+cell": {
     "cellMetadata": {
      "byteLimit": 2048000,
      "rowLimit": 10000
     },
     "inputWidgets": {},
     "nuid": "0af91e0e-4115-49c0-83b5-2c88e202dac3",
     "showTitle": true,
     "title": "Open dfEvents"
    }
   },
   "outputs": [],
   "source": [
    "dfEvents2 = spark.read.parquet(\"wasbs://decide@decide.blob.core.windows.net/poultry/nl/data_avinet/dfEvents2.parquet\")"
   ]
  },
  {
   "cell_type": "markdown",
   "metadata": {
    "application/vnd.databricks.v1+cell": {
     "cellMetadata": {
      "byteLimit": 2048000,
      "rowLimit": 10000
     },
     "inputWidgets": {},
     "nuid": "0c800082-a459-45ee-8449-741e986d2eff",
     "showTitle": false,
     "title": ""
    }
   },
   "source": [
    "# Create flocks"
   ]
  },
  {
   "cell_type": "code",
   "execution_count": 0,
   "metadata": {
    "application/vnd.databricks.v1+cell": {
     "cellMetadata": {
      "byteLimit": 2048000,
      "rowLimit": 10000
     },
     "inputWidgets": {},
     "nuid": "8182b871-cfa4-4b7d-b507-82f8293e08bd",
     "showTitle": true,
     "title": "UDF to split flocks"
    }
   },
   "outputs": [],
   "source": [
    "# filters:\n",
    "# - flock only added to farm_events_list if it ends with slaughter\n",
    "# - flock NOT added if it has a relocation or death event\n",
    "# - flocks can end with thinning. This is corrected later after the flocks are identified (to ensure that first the split at hatch goes correctly)\n",
    "# note: a flock can have multiple slaughter events.\n",
    "\n",
    "def split_flocks(events):\n",
    "    house_events_list = []\n",
    "    \n",
    "    index = 0\n",
    "    while index < len(events):\n",
    "        event = events[index]\n",
    "        if event['EventType'] == 'Hatch':\n",
    "            flock_events_list = []\n",
    "            other_ends_count = 0\n",
    "            flock_events_list.append(event)\n",
    "            first_hatch_date = event['EventDate']\n",
    "            flock = event['MetaData']['FlockIdentification']\n",
    "\n",
    "            for event in events[index+1:]:\n",
    "                #break and create new list if there is a new hatch date, except when this hatch date is within 3 days of the first one\n",
    "                if (event['EventType'] == 'Hatch'):\n",
    "                    if ((event['EventDate'] - first_hatch_date).days > 3):\n",
    "                        break\n",
    "                    else:\n",
    "                        index += 1  # so that this hatch event is skipped in next iteration\n",
    "                \n",
    "                flock_events_list.append(event)\n",
    "                \n",
    "                if event['EventType'] in ('Relocation', 'Death'):\n",
    "                    other_ends_count += 1\n",
    "\n",
    "            # add flock to house list\n",
    "            if (other_ends_count == 0) and ((flock_events_list[-1]['EventType'] == 'Slaughter') or (flock_events_list[-1]['EventType'] == 'Thinning')):\n",
    "                house_events_list.append(flock_events_list)\n",
    "\n",
    "        # move to next event\n",
    "        index += 1\n",
    "\n",
    "    return house_events_list\n",
    "\n",
    "split_flocks_udf = udf(split_flocks, ArrayType(ArrayType(SortedStruct)))"
   ]
  },
  {
   "cell_type": "code",
   "execution_count": 0,
   "metadata": {
    "application/vnd.databricks.v1+cell": {
     "cellMetadata": {
      "byteLimit": 2048000,
      "rowLimit": 10000
     },
     "inputWidgets": {},
     "nuid": "eff88ab6-307c-4c59-afae-f35f6b33e2cd",
     "showTitle": true,
     "title": "UDF to correct slaughter and thinning (after split into flocks)"
    }
   },
   "outputs": [],
   "source": [
    "def correct_thinning(events):\n",
    "    last_event = events[-1]\n",
    "\n",
    "    if last_event['EventType'] == 'Thinning':\n",
    "        updated_last_event_dict = last_event.asDict()\n",
    "        updated_last_event_dict['EventType'] = 'Slaughter'\n",
    "        last_event = Row(**updated_last_event_dict)\n",
    "\n",
    "    slaughter_date = last_event['EventDate']\n",
    "\n",
    "    updated_events = []\n",
    "    # Change thinning and slaughter events if less or more than 2 days from the last event\n",
    "    for event in events[:-1]:\n",
    "        if (event['EventType'] == \"Thinning\") and ((event['EventDate'] - slaughter_date).days >= -2):\n",
    "            updated_event_dict = event.asDict()\n",
    "            updated_event_dict['EventType'] = 'Slaughter'\n",
    "            event = Row(**updated_event_dict)\n",
    "        elif (event['EventType'] == \"Slaughter\") and ((event['EventDate'] - slaughter_date).days < -2):\n",
    "            updated_event_dict = event.asDict()\n",
    "            updated_event_dict['EventType'] = 'Thinning'\n",
    "            event = Row(**updated_event_dict)\n",
    "        updated_events.append(event)\n",
    "\n",
    "    updated_events.append(last_event)\n",
    "\n",
    "    return updated_events\n",
    "\n",
    "correct_thinning_udf = udf(correct_thinning, ArrayType(SortedStruct))"
   ]
  },
  {
   "cell_type": "code",
   "execution_count": 0,
   "metadata": {
    "application/vnd.databricks.v1+cell": {
     "cellMetadata": {
      "byteLimit": 2048000,
      "rowLimit": 10000
     },
     "inputWidgets": {},
     "nuid": "84abc1b8-9566-4deb-8f71-2fe0ed0caf46",
     "showTitle": true,
     "title": "Divide dfEvents into flocks"
    }
   },
   "outputs": [],
   "source": [
    "# dfFlocks has lists within lists as Events\n",
    "dfFlocks = dfEvents2 \\\n",
    "    .withColumn('Flocks', split_flocks_udf(F.col('Events')))\n",
    "\n",
    "# divide flocks into separate rows:\n",
    "dfFlockEvents2 = dfFlocks \\\n",
    "    .select('FarmIdentification',\n",
    "            'Pen',\n",
    "            F.posexplode(F.col('Flocks'))) \\\n",
    "    .withColumnRenamed('pos','Flock') \\\n",
    "    .withColumn('FlockEvents', correct_thinning_udf(F.col('col'))) \\\n",
    "    .drop('col', 'Events')\n",
    "\n",
    "# note: flock counting starts at 0"
   ]
  },
  {
   "cell_type": "code",
   "execution_count": 0,
   "metadata": {
    "application/vnd.databricks.v1+cell": {
     "cellMetadata": {
      "byteLimit": 2048000,
      "rowLimit": 10000
     },
     "inputWidgets": {},
     "nuid": "02fec67d-42e0-4947-ac7a-cb764c5ce12d",
     "showTitle": true,
     "title": "Save dfFlockEvents"
    }
   },
   "outputs": [],
   "source": [
    "dfFlockEvents2.write \\\n",
    "    .format(\"parquet\") \\\n",
    "    .mode(\"overwrite\") \\\n",
    "    .save(\"wasbs://decide@decide.blob.core.windows.net/poultry/nl/data_avinet/dfFlockEvents2.parquet\")\n",
    "\n",
    "# first version: 15/09/23\n",
    "# edits:\n",
    "# 20/09/23: completely reorganised slaughter data with link to PMP\n",
    "# 21/09/23: changed thinning and slaughter correction\n",
    "# 26/09/23: added 2021\n",
    "# 24/10/23: added subscription antibiotics (for DDD)\n",
    "# 29/01/24: made it possible to have multiple hatch dates within 3 days of each other\n",
    "# 02/02/24: made it possible to have multiple hatch dates within 7 days of each other  (30 days gave less flocks)\n",
    "# 06/02/24: fixed errors in split flock and correct thinning udfs"
   ]
  },
  {
   "cell_type": "markdown",
   "metadata": {
    "application/vnd.databricks.v1+cell": {
     "cellMetadata": {
      "byteLimit": 2048000,
      "rowLimit": 10000
     },
     "inputWidgets": {},
     "nuid": "62105a11-85f8-4b08-a8ef-30ec68a29ad4",
     "showTitle": false,
     "title": ""
    }
   },
   "source": [
    "\n",
    "# UDFs for new columns"
   ]
  },
  {
   "cell_type": "code",
   "execution_count": 0,
   "metadata": {
    "application/vnd.databricks.v1+cell": {
     "cellMetadata": {
      "byteLimit": 2048000,
      "rowLimit": 10000
     },
     "inputWidgets": {},
     "nuid": "46e78bf2-5148-46f6-af6c-e00c78b4fb32",
     "showTitle": true,
     "title": "Columns with lists"
    }
   },
   "outputs": [],
   "source": [
    "# List of antibiotics per date range\n",
    "# NOTE: start and end date are included in the range.\n",
    "\n",
    "def antibiotics_list_daterange(flock_events, Hatch_date, day_start, day_end):\n",
    "    antibiotics_lst = []\n",
    "    for event in flock_events:\n",
    "        if (event['EventType'] == 'Antibiotics') and ((event['EventDate'] - Hatch_date).days >= day_start) and ((event['EventDate'] - Hatch_date).days <= day_end):\n",
    "            antibiotics_lst.append(event)\n",
    "    return  antibiotics_lst\n",
    "\n",
    "antibiotics_list_daterange_udf = udf(antibiotics_list_daterange, ArrayType(SortedStruct))\n",
    "\n",
    "def antibiotics_list_daterange_diagnosis(flock_events, Hatch_date, diagnosis, day_start, day_end):\n",
    "    antibiotics_lst = []\n",
    "    for event in flock_events:\n",
    "        if (event['EventType'] == 'Antibiotics') and (event['MetaData']['DiagnosisGroup'] == diagnosis) and ((event['EventDate'] - Hatch_date).days >= day_start) and ((event['EventDate'] - Hatch_date).days <= day_end):\n",
    "            antibiotics_lst.append(event)\n",
    "    return  antibiotics_lst\n",
    "\n",
    "antibiotics_list_daterange_diagnosis_udf = udf(antibiotics_list_daterange_diagnosis, ArrayType(SortedStruct))\n",
    "\n",
    "# List of antibiotics total:\n",
    "def antibiotics_list(flock_events):\n",
    "    antibiotics_lst = []\n",
    "    for event in flock_events:\n",
    "        if event['EventType'] == 'Antibiotics':\n",
    "            antibiotics_lst.append(event)\n",
    "    return  antibiotics_lst\n",
    "\n",
    "antibiotics_list_udf = udf(antibiotics_list, ArrayType(SortedStruct))"
   ]
  },
  {
   "cell_type": "code",
   "execution_count": 0,
   "metadata": {
    "application/vnd.databricks.v1+cell": {
     "cellMetadata": {
      "byteLimit": 2048000,
      "rowLimit": 10000
     },
     "inputWidgets": {},
     "nuid": "c3c23617-e40b-4173-b3bd-737b49c20fce",
     "showTitle": true,
     "title": "Yes or No questions"
    }
   },
   "outputs": [],
   "source": [
    "# thinning yes or no\n",
    "\n",
    "def thinning(flock_events):\n",
    "    is_thinned = 0\n",
    "    for event in flock_events:\n",
    "        if event['EventType'] == 'Thinning':\n",
    "            is_thinned = 1\n",
    "    return  is_thinned\n",
    "\n",
    "thinning_udf = udf(thinning, IntegerType())"
   ]
  },
  {
   "cell_type": "code",
   "execution_count": 0,
   "metadata": {
    "application/vnd.databricks.v1+cell": {
     "cellMetadata": {
      "byteLimit": 2048000,
      "rowLimit": 10000
     },
     "inputWidgets": {},
     "nuid": "5a97be7c-3c66-4d8b-94c5-1c2e5d5d2b85",
     "showTitle": true,
     "title": "Calculations"
    }
   },
   "outputs": [],
   "source": [
    "import numpy as np\n",
    "\n",
    "selected_variables_list = lambda x: x.isNotNull()\n",
    "\n",
    "# mean of list/array:\n",
    "def array_mean(x):\n",
    "    if x is not None:\n",
    "        return float(np.mean(x))\n",
    "    else:\n",
    "        return None\n",
    "\n",
    "array_mean_udf = udf(array_mean, FloatType())\n",
    "\n",
    "\n",
    "# mean of list/array OF FOOTPAD LESIONS:\n",
    "# otherwise this gives NoneType errors. There are arrays of only None.\n",
    "def mean_footpad(arr):\n",
    "    # make new array without null values:\n",
    "    new_list = [x for x in arr if x is not None]\n",
    "    if len(new_list) == 0:\n",
    "        return None\n",
    "    else:\n",
    "        return float(np.mean(new_list))\n",
    "\n",
    "mean_footpad_udf = udf(mean_footpad, FloatType())\n",
    "\n",
    "\n",
    "# sd of list/array:\n",
    "def array_sd(x):\n",
    "    if x is not None:\n",
    "        return float(np.std(x))\n",
    "    else:\n",
    "        return None\n",
    "\n",
    "array_sd_udf = udf(array_sd, FloatType())\n",
    "\n",
    "\n",
    "# median of list/array\n",
    "# this assumes sorted array!\n",
    "\n",
    "def find_median(arr):\n",
    "    # check for even case\n",
    "    if not arr:\n",
    "        return None\n",
    "    elif len(arr) == 0:\n",
    "        return None\n",
    "    elif len(arr) % 2 != 0:\n",
    "        # total number of values are odd\n",
    "        # subtract 1 since indexing starts at 0\n",
    "        m = int((len(arr)+1)/2 - 1)\n",
    "        return float(arr[m])\n",
    "    else:\n",
    "        m1 = int(len(arr)/2 - 1)\n",
    "        m2 = int(len(arr)/2)\n",
    "        return float((arr[m1] + arr[m2])/2)\n",
    "    \n",
    "find_median_udf = udf(find_median, FloatType())\n",
    "\n",
    "# range of list/array\n",
    "# this assumes sorted array!\n",
    "\n",
    "def find_range(arr):\n",
    "    # check for even case\n",
    "    if not arr:\n",
    "        return None\n",
    "    elif len(arr) == 0:\n",
    "        return None\n",
    "    else:\n",
    "        return (arr[-1] - arr[0])\n",
    "    \n",
    "find_range_udf = udf(find_range, FloatType())"
   ]
  },
  {
   "cell_type": "code",
   "execution_count": 0,
   "metadata": {
    "application/vnd.databricks.v1+cell": {
     "cellMetadata": {
      "byteLimit": 2048000,
      "rowLimit": 10000
     },
     "inputWidgets": {},
     "nuid": "0f1d92f2-3352-4604-83ac-a4a44e36b537",
     "showTitle": false,
     "title": ""
    }
   },
   "outputs": [],
   "source": [
    "def weight_per_chicken(flock_events):\n",
    "    num_lst = []\n",
    "    weight_lst = []\n",
    "    weight_per_chick = None\n",
    "    \n",
    "    # make a list of number unsexed for which there is a weight and for weights\n",
    "    for event in flock_events:\n",
    "        if event['EventType'] == 'Slaughter':\n",
    "            if event['MetaData']['Weight']:\n",
    "                num_lst.append(event['MetaData']['Unsexed'])\n",
    "                weight_lst.append(event['MetaData']['Weight'])\n",
    "\n",
    "    if len(num_lst) > 0:\n",
    "        tot = sum(num_lst)\n",
    "        tot_weight = sum(weight_lst)\n",
    "        weight_per_chick = tot_weight/tot\n",
    "        \n",
    "    return weight_per_chick\n",
    "\n",
    "weight_per_chicken_udf = udf(weight_per_chicken, DoubleType())"
   ]
  },
  {
   "cell_type": "code",
   "execution_count": 0,
   "metadata": {
    "application/vnd.databricks.v1+cell": {
     "cellMetadata": {
      "byteLimit": 2048000,
      "rowLimit": 10000
     },
     "inputWidgets": {},
     "nuid": "40a8cfae-70af-40ad-8f06-d833b37ff1df",
     "showTitle": true,
     "title": "Breed categories"
    }
   },
   "outputs": [],
   "source": [
    "def breed_complete(FlockEvents):\n",
    "    slaughter_breed = 'unclear'\n",
    "    slaughter_count = 0\n",
    "    # look at breeds from slaughter data:\n",
    "    for event in FlockEvents:\n",
    "        if event['EventType'] == \"Slaughter\":\n",
    "            if event['MetaData']['Breed'] != slaughter_breed:\n",
    "                slaughter_count = slaughter_count + 1\n",
    "                slaughter_breed = event['MetaData']['Breed']    \n",
    "                \n",
    "    # return breed (category):\n",
    "    # breed 'unclear' when:\n",
    "    # 1) there are more titers, and they have different breeds\n",
    "    # 2) there are more slaughters, and they have different breeds   (1+2: breed_count > 1)\n",
    "    # 3) ndv_breed and slaughter_breed are not the same\n",
    "    if slaughter_count > 1:\n",
    "        return 'unclear'\n",
    "    else:\n",
    "        return slaughter_breed\n",
    "\n",
    "breed_complete_udf = udf(breed_complete, StringType())"
   ]
  },
  {
   "cell_type": "code",
   "execution_count": 0,
   "metadata": {
    "application/vnd.databricks.v1+cell": {
     "cellMetadata": {
      "byteLimit": 2048000,
      "rowLimit": 10000
     },
     "inputWidgets": {},
     "nuid": "a44862b3-61f3-4261-96e8-f5e5ac670e82",
     "showTitle": true,
     "title": "Broiler type based on growth curve in PMP"
    }
   },
   "outputs": [],
   "source": [
    "import re\n",
    "\n",
    "def broilerTypePMP(FlockEvents):\n",
    "    broiler_type = None\n",
    "    \n",
    "    # look at slaughter event: CompanyType, Breed and AgeAtSlaughter:\n",
    "    # reversed because the age is defined by the last slaughter\n",
    "    for event in reversed(FlockEvents):\n",
    "        if event['EventType'] == \"Slaughter\":\n",
    "            # organic and free-range (outside) is a separate category\n",
    "            if event['MetaData']['CompanyType'] == \"Biologisch vlees\" or event['MetaData']['CompanyType'] == \"Vrije uitloop vlees\":\n",
    "                broiler_type = 'free range and organic'\n",
    "            #conventional\n",
    "            elif ((event['MetaData']['GrowthCurve'] == \"REG\") and  (event['MetaData']['AgeAtSlaughter'] < 46)):\n",
    "                broiler_type = 'conventional'\n",
    "            # slow-growing breed belongs to medium or slow\n",
    "            elif event['MetaData']['GrowthCurve'] == \"ALT\":\n",
    "                if event['MetaData']['AgeAtSlaughter'] >= 56:\n",
    "                    broiler_type = 'slow-growing'\n",
    "                elif event['MetaData']['AgeAtSlaughter'] >= 46:\n",
    "                    broiler_type = 'medium'\n",
    "            # some flocks don't fall into a category: slaughtered too soon or too late. These are type 'None'\n",
    "            break \n",
    "    return broiler_type\n",
    "\n",
    "broilerTypePMP_udf = udf(broilerTypePMP, StringType())"
   ]
  },
  {
   "cell_type": "markdown",
   "metadata": {
    "application/vnd.databricks.v1+cell": {
     "cellMetadata": {
      "byteLimit": 2048000,
      "rowLimit": 10000
     },
     "inputWidgets": {},
     "nuid": "46aa328b-93ba-443c-824d-04beb2251b12",
     "showTitle": false,
     "title": ""
    }
   },
   "source": [
    "\n",
    "# Load necessary data"
   ]
  },
  {
   "cell_type": "code",
   "execution_count": 0,
   "metadata": {
    "application/vnd.databricks.v1+cell": {
     "cellMetadata": {
      "byteLimit": 2048000,
      "rowLimit": 10000
     },
     "inputWidgets": {},
     "nuid": "ff16d89d-971c-4d63-b65e-ed44ca299f90",
     "showTitle": true,
     "title": "Open dfFlockEvents"
    }
   },
   "outputs": [],
   "source": [
    "dfFlockEvents2 = spark.read.parquet(\"wasbs://decide@decide.blob.core.windows.net/poultry/nl/data_avinet/dfFlockEvents2.parquet\")"
   ]
  },
  {
   "cell_type": "code",
   "execution_count": 0,
   "metadata": {
    "application/vnd.databricks.v1+cell": {
     "cellMetadata": {
      "byteLimit": 2048000,
      "rowLimit": 10000
     },
     "inputWidgets": {},
     "nuid": "407450b2-3c24-4e4a-ab4d-3d62d2d7b51f",
     "showTitle": true,
     "title": "Add company type (patio or not)"
    }
   },
   "outputs": [],
   "source": [
    "dfHouder = spark. \\\n",
    "  read. \\\n",
    "  option(\"header\", \"true\"). \\\n",
    "  option(\"delimiter\", \",\"). \\\n",
    "  csv(\"wasbs://decide@decide.blob.core.windows.net/poultry/nl/data_avinet/vmp_houder.csv\")\n",
    "\n",
    "dfPatio = dfHouder \\\n",
    "    .withColumnRenamed('UBN','FarmIdentification') \\\n",
    "    .withColumnRenamed('BEDRIJFSOORT','Patio') \\\n",
    "    .drop('HDRID','KIPNUMMER', 'PostalCode', 'WOONPLAATS', 'ADRES', 'KIPBEGINDATUM', 'NAAM', 'DATUM_LAMU', 'USER_LAMU', 'KIPEINDDATUM', 'PMPKUBID', 'STRAAT', 'HUISNR', \n",
    "          'HUISNRTOEV', 'REGISTRATIENUMMER', 'POSTPLAATS', 'POSTADRES', 'POSTPOSTCODE', 'POSTSTRAAT', 'POSTHUISNR', 'POSTHUISNRTOEV', 'SRTCODE', 'PMPKIPID', 'POSTCODE') \\\n",
    "    .withColumn('Patio', F.regexp_replace('Patio', '50', '0')) \\\n",
    "    .withColumn('Patio', F.regexp_replace('Patio', '13', '1')) \\\n",
    "    .withColumn('Patio', F.col('Patio').cast(\"integer\")) \\\n",
    "    .groupBy('FarmIdentification').sum('Patio') \\\n",
    "    .withColumnRenamed('sum(Patio)', 'Patio')\n",
    "\n",
    "# 10/1/2023 problem solved: patio companies are both registered as 50 and 13. So they were copied as being not patio as well."
   ]
  },
  {
   "cell_type": "code",
   "execution_count": 0,
   "metadata": {
    "application/vnd.databricks.v1+cell": {
     "cellMetadata": {
      "byteLimit": 2048000,
      "rowLimit": 10000
     },
     "inputWidgets": {},
     "nuid": "044ea5f5-792a-4963-9515-67b64bfa1e39",
     "showTitle": true,
     "title": "Add poultry density based on Postal Code (read raw data and make one density dataset)"
    }
   },
   "outputs": [],
   "source": [
    "dfPoultryNumbersByPostalCode = spark.read. \\\n",
    "    option(\"header\", \"true\"). \\\n",
    "    option(\"delimiter\", \",\"). \\\n",
    "    csv(\"wasbs://decide@decide.blob.core.windows.net/poultry/nl/data_avinet/bedrijven_per_pc2.csv\")"
   ]
  },
  {
   "cell_type": "code",
   "execution_count": 0,
   "metadata": {
    "application/vnd.databricks.v1+cell": {
     "cellMetadata": {
      "byteLimit": 2048000,
      "rowLimit": 10000
     },
     "inputWidgets": {},
     "nuid": "1fe9ed7d-cc56-4f00-ac00-3fa11ef288ae",
     "showTitle": false,
     "title": ""
    }
   },
   "outputs": [],
   "source": [
    "dfSurface = spark.read. \\\n",
    "    option(\"header\", \"true\"). \\\n",
    "    option(\"delimiter\", \",\"). \\\n",
    "    csv(\"wasbs://decide@decide.blob.core.windows.net/poultry/nl/data_avinet/pc2attributeinfo.csv\") \\\n",
    "    .withColumn('Surface', F.col('oppervlak').cast('float')) \\\n",
    "    .withColumnRenamed('provnaam', 'Province') \\\n",
    "    .drop('oppervlak')"
   ]
  },
  {
   "cell_type": "code",
   "execution_count": 0,
   "metadata": {
    "application/vnd.databricks.v1+cell": {
     "cellMetadata": {
      "byteLimit": 2048000,
      "rowLimit": 10000
     },
     "inputWidgets": {},
     "nuid": "d06b228b-2a30-4c6a-a5cf-f3117d6c3073",
     "showTitle": false,
     "title": ""
    }
   },
   "outputs": [],
   "source": [
    "dfPoultryFarmNumbers = dfPoultryNumbersByPostalCode \\\n",
    "    .melt(\n",
    "        ids=['pc2'], values=['n_2013', 'n_2014', 'n_2015', 'n_2016', 'n_2017', 'n_2018', 'n_2019', 'n_2020', 'n_2021'], \n",
    "        variableColumnName=\"HatchYear\", \n",
    "        valueColumnName=\"Farms\") \\\n",
    "    .withColumn('HatchYear', F.substring(F.col('HatchYear'), 3, 4)) \\\n",
    "    .withColumn('Farms', F.col('Farms').cast('integer')) \\\n",
    "    .join(dfSurface, on = \"pc2\") \\\n",
    "    .withColumn('PoultryFarmDensity', F.col('Farms')/F.col('Surface')) \\\n",
    "    .select('pc2', 'HatchYear', 'Province', 'PoultryFarmDensity')"
   ]
  },
  {
   "cell_type": "code",
   "execution_count": 0,
   "metadata": {
    "application/vnd.databricks.v1+cell": {
     "cellMetadata": {
      "byteLimit": 2048000,
      "rowLimit": 10000
     },
     "inputWidgets": {},
     "nuid": "54ccd11c-f0a5-4d1b-8d54-c96f3be388ca",
     "showTitle": false,
     "title": ""
    }
   },
   "outputs": [],
   "source": [
    "spark.conf.set(\"spark.sql.legacy.timeParserPolicy\",\"LEGACY\")"
   ]
  },
  {
   "cell_type": "code",
   "execution_count": 0,
   "metadata": {
    "application/vnd.databricks.v1+cell": {
     "cellMetadata": {
      "byteLimit": 2048000,
      "rowLimit": 10000
     },
     "inputWidgets": {},
     "nuid": "3f15abec-f764-4f2c-b71c-4842644e838a",
     "showTitle": true,
     "title": "Number of houses (create dataframe)"
    }
   },
   "outputs": [],
   "source": [
    "houses = dfFlockEvents2\\\n",
    "    .withColumn('HatchYear',\n",
    "                F.year(F.expr(\"filter(FlockEvents, x -> x.EventType = 'Hatch')\")[0][\"EventDate\"])) \\\n",
    "    .groupby('FarmIdentification', 'HatchYear').agg(F.countDistinct(F.col('Pen')).alias('NumberOfHouses'))"
   ]
  },
  {
   "cell_type": "markdown",
   "metadata": {
    "application/vnd.databricks.v1+cell": {
     "cellMetadata": {
      "byteLimit": 2048000,
      "rowLimit": 10000
     },
     "inputWidgets": {},
     "nuid": "ad8cdb0b-7216-428b-847a-23d351cc70d1",
     "showTitle": false,
     "title": ""
    }
   },
   "source": [
    "\n",
    "# dfFlockTotal"
   ]
  },
  {
   "cell_type": "code",
   "execution_count": 0,
   "metadata": {
    "application/vnd.databricks.v1+cell": {
     "cellMetadata": {
      "byteLimit": 2048000,
      "rowLimit": 10000
     },
     "inputWidgets": {},
     "nuid": "a401bee1-3ace-42ab-a4f9-6e90a08769e1",
     "showTitle": false,
     "title": ""
    }
   },
   "outputs": [],
   "source": [
    "from pyspark.sql.window import Window\n",
    "\n",
    "dfFlockTotal = dfFlockEvents2 \\\n",
    "    .join(dfPatio, on = ['FarmIdentification'], how = 'left_outer') \\\n",
    "    .withColumn('NumberOfFlockIDs',\n",
    "                F.size(F.array_distinct(F.expr(\"filter(FlockEvents, x -> x.EventType != 'Antibiotics')\")[\"MetaData\"][\"FlockIdentification\"]))) \\\n",
    "    .withColumn('KIPNumber',\n",
    "               F.expr(\"filter(FlockEvents, x -> x.EventType = 'Hatch')\")[\"MetaData\"][\"PoultryFarmIdentification\"][0]) \\\n",
    "    .withColumn('PostalCode', \n",
    "                F.regexp_replace(F.expr(\"filter(FlockEvents, x -> x.EventType = 'Hatch')\")[\"MetaData\"][\"PostalCode\"][0], \" \", \"\")) \\\n",
    "    .withColumn('PostalCodeShort',\n",
    "               F.substring(F.col('PostalCode'), 1,4)\n",
    "               .cast(\"integer\"))  \\\n",
    "    .withColumn('pc2',\n",
    "               F.substring(F.col('PostalCode'), 1,2)) \\\n",
    "    .withColumn('CompanyType',\n",
    "               F.expr(\"filter(FlockEvents, x -> x.EventType = 'Hatch')\")[\"MetaData\"][\"CompanyType\"][0]) \\\n",
    "    .withColumn('GrowthRate',\n",
    "               F.expr(\"filter(FlockEvents, x -> x.EventType = 'Hatch')\")[\"MetaData\"][\"GrowthCurve\"][0]) \\\n",
    "    .withColumn('Type',\n",
    "                broilerTypePMP_udf(F.col('FlockEvents'))) \\\n",
    "    .withColumn('OnFarmHatching',\n",
    "               F.when(F.col('CompanyType') == \"Uitkomst in de stal\", 1)\n",
    "               .otherwise(0)) \\\n",
    "    .withColumn('VetId',\n",
    "               F.expr(\"filter(FlockEvents, x -> x.EventType = 'Hatch')\")[\"MetaData\"][\"VetId\"][0]) \\\n",
    "    .withColumn('BreedFiltered',\n",
    "               breed_complete_udf(F.col('FlockEvents'))) \\\n",
    "    .withColumn('Breed',\n",
    "               F.expr(\"filter(FlockEvents, x -> x.EventType = 'Hatch')\")[\"MetaData\"][\"Breed\"][0]) \\\n",
    "    .withColumn('GrowthCurve',\n",
    "               F.expr(\"filter(FlockEvents, x -> x.EventType = 'Hatch')\")[\"MetaData\"][\"GrowthCurve\"][0]) \\\n",
    "    .withColumn('HatchDate',\n",
    "                F.expr(\"filter(FlockEvents, x -> x.EventType = 'Hatch')\")[0][\"EventDate\"]) \\\n",
    "    .withColumn('AllHatchDates',\n",
    "                F.expr(\"filter(FlockEvents, x -> x.EventType = 'Hatch')\")[\"EventDate\"]) \\\n",
    "    .withColumn('HatchYear',\n",
    "               F.year(F.col(\"HatchDate\"))) \\\n",
    "    .withColumn('HatchQuarter',\n",
    "                F.when((F.month(F.col(\"HatchDate\")) == 1) |\n",
    "                       (F.month(F.col(\"HatchDate\")) == 2) |\n",
    "                       (F.month(F.col(\"HatchDate\")) == 3), '1')\n",
    "                .when((F.month(F.col(\"HatchDate\")) == 4) |\n",
    "                       (F.month(F.col(\"HatchDate\")) == 5) |\n",
    "                       (F.month(F.col(\"HatchDate\")) == 6), '2')\n",
    "                .when((F.month(F.col(\"HatchDate\")) == 7) |\n",
    "                       (F.month(F.col(\"HatchDate\")) == 8) |\n",
    "                       (F.month(F.col(\"HatchDate\")) == 9), '3')\n",
    "                .otherwise('4')) \\\n",
    "    .join(houses, on=['FarmIdentification', 'HatchYear']) \\\n",
    "    .withColumn('TreatmentSupplyDates',\n",
    "               F.expr(\"filter(FlockEvents, x -> x.EventType = 'Antibiotics')\")[\"EventDate\"]) \\\n",
    "    .withColumn('Antibiotics',\n",
    "                F.when(F.size(antibiotics_list_udf(F.col('FlockEvents'))) == 0, 0)\n",
    "                .otherwise(1)) \\\n",
    "    .withColumn('AntibioticsWeek1',\n",
    "                F.when(F.size(antibiotics_list_daterange_udf(F.col('FlockEvents'), F.col('HatchDate'), F.lit(0), F.lit(7))) == 0, 0)\n",
    "                .otherwise(1)) \\\n",
    "    .withColumn('AntibioticsAfterWeek1',\n",
    "                F.when(F.size(antibiotics_list_daterange_udf(F.col('FlockEvents'), F.col('HatchDate'), F.lit(8), F.lit(100))) == 0, 0)\n",
    "                .otherwise(1)) \\\n",
    "    .withColumn('AntibioticsWeek2',\n",
    "                F.when(F.size(antibiotics_list_daterange_udf(F.col('FlockEvents'), F.col('HatchDate'), F.lit(8), F.lit(14))) == 0, 0)\n",
    "                .otherwise(1)) \\\n",
    "    .withColumn('AntibioticsWeek3',\n",
    "                F.when(F.size(antibiotics_list_daterange_udf(F.col('FlockEvents'), F.col('HatchDate'), F.lit(15), F.lit(21))) == 0, 0)\n",
    "                .otherwise(1)) \\\n",
    "    .withColumn('AntibioticsWeek4',\n",
    "                F.when(F.size(antibiotics_list_daterange_udf(F.col('FlockEvents'), F.col('HatchDate'), F.lit(22), F.lit(28))) == 0, 0)\n",
    "                .otherwise(1)) \\\n",
    "    .withColumn('AntibioticsWeek5',\n",
    "                F.when(F.size(antibiotics_list_daterange_udf(F.col('FlockEvents'), F.col('HatchDate'), F.lit(29), F.lit(35))) == 0, 0)\n",
    "                .otherwise(1)) \\\n",
    "    .withColumn('AntibioticsWeek6',\n",
    "                F.when(F.size(antibiotics_list_daterange_udf(F.col('FlockEvents'), F.col('HatchDate'), F.lit(36), F.lit(42))) == 0, 0)\n",
    "                .otherwise(1)) \\\n",
    "    .withColumn('TotalNumberOfAntibiotics',\n",
    "                F.size(antibiotics_list_udf(F.col('FlockEvents')))) \\\n",
    "    .withColumn('AllTreatmentDays',\n",
    "               F.expr(\"filter(FlockEvents, x -> x.EventType = 'Antibiotics')\")[\"MetaData\"][\"TreatmentDays\"]) \\\n",
    "    .withColumn('TotalTreatmentDays',\n",
    "                F.expr('AGGREGATE(AllTreatmentDays, double(0), (acc, x) -> acc + x)')) \\\n",
    "    .withColumn('DiagnosisGroup',\n",
    "               F.filter(F.col(\"FlockEvents.MetaData.DiagnosisGroup\"), selected_variables_list)) \\\n",
    "    .withColumn('DiagnosisCode',\n",
    "               F.filter(F.col(\"FlockEvents.MetaData.DiagnosisCode\"), selected_variables_list)) \\\n",
    "    .withColumn('AntibioticsDiagnosisDigestion',\n",
    "               F.when(F.array_contains(F.expr(\"filter(FlockEvents, x -> x.EventType = 'Antibiotics')\")[\"MetaData\"][\"DiagnosisGroup\"], \"Digestie\"), 1)\n",
    "               .otherwise(0)) \\\n",
    "    .withColumn('AntibioticsDigestionWeek1',\n",
    "                F.when(F.size(antibiotics_list_daterange_diagnosis_udf(F.col('FlockEvents'), F.col('HatchDate'), F.lit('Digestie'), F.lit(0), F.lit(7))) == 0, 0)\n",
    "                .otherwise(1)) \\\n",
    "    .withColumn('AntibioticsDigestionWeek2',\n",
    "                F.when(F.size(antibiotics_list_daterange_diagnosis_udf(F.col('FlockEvents'), F.col('HatchDate'), F.lit('Digestie'), F.lit(8), F.lit(14))) == 0, 0)\n",
    "                .otherwise(1)) \\\n",
    "    .withColumn('AntibioticsDigestionWeek3',\n",
    "                F.when(F.size(antibiotics_list_daterange_diagnosis_udf(F.col('FlockEvents'), F.col('HatchDate'), F.lit('Digestie'), F.lit(15), F.lit(21))) == 0, 0)\n",
    "                .otherwise(1)) \\\n",
    "    .withColumn('AntibioticsDigestionWeek4',\n",
    "                F.when(F.size(antibiotics_list_daterange_diagnosis_udf(F.col('FlockEvents'), F.col('HatchDate'), F.lit('Digestie'), F.lit(12), F.lit(28))) == 0, 0)\n",
    "                .otherwise(1)) \\\n",
    "    .withColumn('AntibioticsDigestionWeek5',\n",
    "                F.when(F.size(antibiotics_list_daterange_diagnosis_udf(F.col('FlockEvents'), F.col('HatchDate'), F.lit('Digestie'), F.lit(29), F.lit(35))) == 0, 0)\n",
    "                .otherwise(1)) \\\n",
    "    .withColumn('AntibioticsDigestionWeek6',\n",
    "                F.when(F.size(antibiotics_list_daterange_diagnosis_udf(F.col('FlockEvents'), F.col('HatchDate'), F.lit('Digestie'), F.lit(36), F.lit(42))) == 0, 0)\n",
    "                .otherwise(1)) \\\n",
    "    .withColumn('AntibioticsDiagnosisRespiration',\n",
    "               F.when(F.array_contains(F.expr(\"filter(FlockEvents, x -> x.EventType = 'Antibiotics')\")[\"MetaData\"][\"DiagnosisGroup\"], \"Respiratie\"), 1)\n",
    "               .otherwise(0)) \\\n",
    "    .withColumn('AntibioticsRespirationWeek1',\n",
    "                F.when(F.size(antibiotics_list_daterange_diagnosis_udf(F.col('FlockEvents'), F.col('HatchDate'), F.lit('Respiratie'), F.lit(0), F.lit(7))) == 0, 0)\n",
    "                .otherwise(1)) \\\n",
    "    .withColumn('AntibioticsRespirationWeek2',\n",
    "                F.when(F.size(antibiotics_list_daterange_diagnosis_udf(F.col('FlockEvents'), F.col('HatchDate'), F.lit('Respiratie'), F.lit(8), F.lit(14))) == 0, 0)\n",
    "                .otherwise(1)) \\\n",
    "    .withColumn('AntibioticsRespirationWeek3',\n",
    "                F.when(F.size(antibiotics_list_daterange_diagnosis_udf(F.col('FlockEvents'), F.col('HatchDate'), F.lit('Respiratie'), F.lit(15), F.lit(21))) == 0, 0)\n",
    "                .otherwise(1)) \\\n",
    "    .withColumn('AntibioticsRespirationWeek4',\n",
    "                F.when(F.size(antibiotics_list_daterange_diagnosis_udf(F.col('FlockEvents'), F.col('HatchDate'), F.lit('Respiratie'), F.lit(12), F.lit(28))) == 0, 0)\n",
    "                .otherwise(1)) \\\n",
    "    .withColumn('AntibioticsRespirationWeek5',\n",
    "                F.when(F.size(antibiotics_list_daterange_diagnosis_udf(F.col('FlockEvents'), F.col('HatchDate'), F.lit('Respiratie'), F.lit(29), F.lit(35))) == 0, 0)\n",
    "                .otherwise(1)) \\\n",
    "    .withColumn('AntibioticsRespirationWeek6',\n",
    "                F.when(F.size(antibiotics_list_daterange_diagnosis_udf(F.col('FlockEvents'), F.col('HatchDate'), F.lit('Respiratie'), F.lit(36), F.lit(42))) == 0, 0)\n",
    "                .otherwise(1)) \\\n",
    "    .withColumn('AntibioticsDiagnosisLocomotion',\n",
    "               F.when(F.array_contains(F.expr(\"filter(FlockEvents, x -> x.EventType = 'Antibiotics')\")[\"MetaData\"][\"DiagnosisGroup\"], \"Locomotie\"), 1)\n",
    "               .otherwise(0)) \\\n",
    "    .withColumn('AntibioticsLocomotionWeek1',\n",
    "                F.when(F.size(antibiotics_list_daterange_diagnosis_udf(F.col('FlockEvents'), F.col('HatchDate'), F.lit('Locomotie'), F.lit(0), F.lit(7))) == 0, 0)\n",
    "                .otherwise(1)) \\\n",
    "    .withColumn('AntibioticsLocomotionWeek2',\n",
    "                F.when(F.size(antibiotics_list_daterange_diagnosis_udf(F.col('FlockEvents'), F.col('HatchDate'), F.lit('Locomotie'), F.lit(8), F.lit(14))) == 0, 0)\n",
    "                .otherwise(1)) \\\n",
    "    .withColumn('AntibioticsLocomotionWeek3',\n",
    "                F.when(F.size(antibiotics_list_daterange_diagnosis_udf(F.col('FlockEvents'), F.col('HatchDate'), F.lit('Locomotie'), F.lit(15), F.lit(21))) == 0, 0)\n",
    "                .otherwise(1)) \\\n",
    "    .withColumn('AntibioticsLocomotionWeek4',\n",
    "                F.when(F.size(antibiotics_list_daterange_diagnosis_udf(F.col('FlockEvents'), F.col('HatchDate'), F.lit('Locomotie'), F.lit(12), F.lit(28))) == 0, 0)\n",
    "                .otherwise(1)) \\\n",
    "    .withColumn('AntibioticsLocomotionWeek5',\n",
    "                F.when(F.size(antibiotics_list_daterange_diagnosis_udf(F.col('FlockEvents'), F.col('HatchDate'), F.lit('Locomotie'), F.lit(29), F.lit(35))) == 0, 0)\n",
    "                .otherwise(1)) \\\n",
    "    .withColumn('AntibioticsLocomotionWeek6',\n",
    "                F.when(F.size(antibiotics_list_daterange_diagnosis_udf(F.col('FlockEvents'), F.col('HatchDate'), F.lit('Locomotie'), F.lit(36), F.lit(42))) == 0, 0)\n",
    "                .otherwise(1)) \\\n",
    "    .withColumn('AntibioticsDiagnosisFirstWeekProblems',\n",
    "               F.when(F.array_contains(F.expr(\"filter(FlockEvents, x -> x.EventType = 'Antibiotics')\")[\"MetaData\"][\"DiagnosisGroup\"], \"Eerste week problemen\"), 1)\n",
    "               .otherwise(0)) \\\n",
    "    .withColumn('AntibioticsDiagnosisOther',\n",
    "               F.when(F.array_contains(F.expr(\"filter(FlockEvents, x -> x.EventType = 'Antibiotics')\")[\"MetaData\"][\"DiagnosisGroup\"], \"Overig / algemene stoornissen\"), 1)\n",
    "               .otherwise(0)) \\\n",
    "    .withColumn('Amoxicillin',\n",
    "               F.when(F.array_contains(F.expr(\"filter(FlockEvents, x -> x.EventType = 'Antibiotics')\")[\"MetaData\"][\"DrugActiveSubstance\"], \"amoxicilline\"), 1)\n",
    "               .otherwise(0)) \\\n",
    "    .withColumn('Doxycyclin',\n",
    "               F.when(F.array_contains(F.expr(\"filter(FlockEvents, x -> x.EventType = 'Antibiotics')\")[\"MetaData\"][\"DrugActiveSubstance\"], \"doxycycline\"), 1)\n",
    "               .otherwise(0)) \\\n",
    "    .withColumn('TrimethoprimSulfamethoxazol',\n",
    "               F.when(F.array_contains(F.expr(\"filter(FlockEvents, x -> x.EventType = 'Antibiotics')\")[\"MetaData\"][\"DrugActiveSubstance\"], \"trimethoprim / sulfamethoxazol\"), 1)\n",
    "               .otherwise(0)) \\\n",
    "    .withColumn('DrugList',\n",
    "                F.expr(\"filter(FlockEvents, x -> x.EventType = 'Antibiotics')\")[\"MetaData\"][\"DrugActiveSubstance\"]) \\\n",
    "    .withColumn('EtiologyCode',\n",
    "               F.filter(F.col(\"FlockEvents.MetaData.EtiologyCode\"), selected_variables_list)) \\\n",
    "    .withColumn('KilogramsTreated',\n",
    "               F.filter(F.col(\"FlockEvents.MetaData.KilogramsTreated\"), selected_variables_list)) \\\n",
    "    .withColumn('TotalKilogramsTreated',\n",
    "                F.expr('AGGREGATE(KilogramsTreated, double(0), (acc, x) -> acc + x)')) \\\n",
    "    .withColumn('Thinning',\n",
    "                thinning_udf(F.col('FlockEvents'))) \\\n",
    "    .withColumn('Thinned_PMP',\n",
    "                F.expr(\"filter(FlockEvents, x -> x.EventType = 'Hatch')\")[\"MetaData\"][\"Thinned\"][0]) \\\n",
    "    .withColumn('AllSlaughterDates',\n",
    "               F.expr(\"filter(FlockEvents, x -> x.EventType = 'Slaughter')\")[\"EventDate\"]) \\\n",
    "    .withColumn('SlaughterDate',\n",
    "               F.element_at(F.col('AllSlaughterDates'), -1)) \\\n",
    "    .withColumn('SlaughterQuarter',\n",
    "                F.when((F.month(F.col(\"SlaughterDate\")) == 1) |\n",
    "                       (F.month(F.col(\"SlaughterDate\")) == 2) |\n",
    "                       (F.month(F.col(\"SlaughterDate\")) == 3), '1')\n",
    "                .when((F.month(F.col(\"SlaughterDate\")) == 4) |\n",
    "                       (F.month(F.col(\"SlaughterDate\")) == 5) |\n",
    "                       (F.month(F.col(\"SlaughterDate\")) == 6), '2')\n",
    "                .when((F.month(F.col(\"SlaughterDate\")) == 7) |\n",
    "                       (F.month(F.col(\"SlaughterDate\")) == 8) |\n",
    "                       (F.month(F.col(\"SlaughterDate\")) == 9), '3')\n",
    "                .otherwise('4')) \\\n",
    "    .withColumn('AgeAtSlaughter',\n",
    "                F.expr(\"filter(FlockEvents, x -> x.EventType = 'Slaughter')\")[\"MetaData\"][\"AgeAtSlaughter\"][-1]) \\\n",
    "    .withColumn('MeanAgeAtSlaughter',\n",
    "                array_mean_udf(F.expr(\"filter(FlockEvents, x -> x.EventType = 'Slaughter')\")[\"MetaData\"][\"AgeAtSlaughter\"])) \\\n",
    "    .withColumn('MeanAgeAtThinning',\n",
    "                array_mean_udf(F.expr(\"filter(FlockEvents, x -> x.EventType = 'Thinning')\")[\"MetaData\"][\"AgeAtSlaughter\"])) \\\n",
    "    .withColumn('DDD', F.col('TotalTreatmentDays')/F.col('MeanAgeAtSlaughter')) \\\n",
    "    .withColumn('AllAgesAtSlaughter',\n",
    "               F.expr(\"filter(FlockEvents, x -> x.EventType = 'Slaughter')\")[\"MetaData\"][\"AgeAtSlaughter\"]) \\\n",
    "    .withColumn('AllAgesAtThinning',\n",
    "               F.expr(\"filter(FlockEvents, x -> x.EventType = 'Thinning')\")[\"MetaData\"][\"AgeAtSlaughter\"]) \\\n",
    "    .withColumn('Slaughterhouse',\n",
    "               F.expr(\"filter(FlockEvents, x -> x.EventType = 'Slaughter')\")[\"MetaData\"][\"KIPNumberDestination\"][0]) \\\n",
    "    .withColumn('NumberThinned',\n",
    "               F.aggregate(F.expr(\"filter(FlockEvents, x -> x.EventType = 'Thinning')\")[\"MetaData\"][\"Unsexed\"],\n",
    "                           F.lit(0),\n",
    "                           lambda acc, x: acc + x)) \\\n",
    "    .withColumn('NumberSlaughtered',\n",
    "               F.when(F.aggregate(F.expr(\"filter(FlockEvents, x -> x.EventType = 'Slaughter')\")[\"MetaData\"][\"Unsexed\"],\n",
    "                                  F.lit(0),\n",
    "                                  lambda acc, x: acc + x) > 0,\n",
    "                      F.aggregate(F.expr(\"filter(FlockEvents, x -> x.EventType = 'Slaughter')\")[\"MetaData\"][\"Unsexed\"],\n",
    "                                  F.lit(0),\n",
    "                                  lambda acc, x: acc + x))) \\\n",
    "    .withColumn('EndFlockSize',\n",
    "               F.when(F.col('NumberSlaughtered') > 0,\n",
    "                      F.col('NumberThinned') +\n",
    "                      F.col('NumberSlaughtered'))) \\\n",
    "    .withColumn('FractionThinned',\n",
    "                F.col('NumberThinned')/F.col('EndFlockSize')) \\\n",
    "    .withColumn('NumberPlaced',\n",
    "                F.expr(\"filter(FlockEvents, x -> x.EventType = 'Hatch')\")[\"MetaData\"][\"NumberPlaced\"][0].cast('integer')) \\\n",
    "    .withColumn('Mortality',\n",
    "                F.when(F.expr(\"filter(FlockEvents, x -> x.EventType = 'Slaughter')\")[\"MetaData\"][\"Mortality\"][0] < 100.0, \n",
    "                       F.expr(\"filter(FlockEvents, x -> x.EventType = 'Slaughter')\")[\"MetaData\"][\"Mortality\"][0])\n",
    "                .otherwise(None)) \\\n",
    "    .withColumn('SlaughterWeight',\n",
    "                F.when(F.aggregate(F.expr(\"filter(FlockEvents, x -> x.EventType = 'Slaughter')\")[\"MetaData\"][\"Weight\"],\n",
    "                                   F.lit(0),\n",
    "                                   lambda acc, x: acc + x) > 0,\n",
    "                      F.aggregate(F.expr(\"filter(FlockEvents, x -> x.EventType = 'Slaughter')\")[\"MetaData\"][\"Weight\"],\n",
    "                                   F.lit(0),\n",
    "                                  lambda acc, x: acc + x))) \\\n",
    "    .withColumn('SlaughterWeightPerChicken',\n",
    "                weight_per_chicken_udf(F.col('FlockEvents'))) \\\n",
    "    .withColumn('FootpadLesions',\n",
    "                mean_footpad_udf(F.expr(\"filter(FlockEvents, x -> x.EventType = 'Slaughter')\")[\"MetaData\"][\"FootpadLesionScores\"])) \\\n",
    "    .join(dfPoultryFarmNumbers, on = [\"pc2\", \"HatchYear\"], how = 'left_outer') \\\n",
    "    .drop('FlockEvents') \\\n",
    "    .filter(F.col('Patio') == 0) \\\n",
    "    .filter(F.col('EndFlockSize') < 80000) \\\n",
    "    .filter((F.col('Mortality').isNull()) | (F.col('Mortality') <= 15)) \\\n",
    "    .filter(F.col('NumberOfFlockIDs') == 1)\n",
    "\n",
    "# Slaughter:\n",
    "# - slaughter date is the last slaughter date from the flock.\n",
    "# - MeanAgeAtSlaughter is the mean of all slaughter ages. Due to thinning/slaughter correction the difference is max 2 days.\n",
    "# - mortality rates are only from the first slaughter (in most cases, this is the only slaughter)\n",
    "# - FootpadLesions are the average of slaughters (not thinning)\n",
    "# - Slaughter weight per chicken is calculated using the number of unsexed chickens from slaughter events that contain a weight.\n",
    "# - Flock size estimate filtered on <= 80.000 because non-patio flocks larger than this are unrealistic.\n",
    "# - Mortality filtered on >15 % because these would be very unusual and there are some with 90% mortality which are clearly typos (based on number of chickens slaughtered)"
   ]
  },
  {
   "cell_type": "code",
   "execution_count": 0,
   "metadata": {
    "application/vnd.databricks.v1+cell": {
     "cellMetadata": {
      "byteLimit": 2048000,
      "rowLimit": 10000
     },
     "inputWidgets": {},
     "nuid": "9bf83b7d-332d-4905-be9e-031666442ea5",
     "showTitle": true,
     "title": "For sensitivity analysis: make version where largest flocks are halved"
    }
   },
   "outputs": [],
   "source": [
    "# if flock size is more than 75% quantile, then halve the flock size.\n",
    "\n",
    "dfHalfFlocks = dfFlockTotal \\\n",
    "    .withColumn('CorrectedFlockSizeSLOW',\n",
    "                F.when(((F.col('Type') == \"slow-growing\") & (F.col('EndFlockSize') > 20600)), F.col('EndFlockSize')/2)\n",
    "                .otherwise(F.col('EndFlockSize'))) \\\n",
    "    .withColumn('CorrectedFlockSize',\n",
    "                F.when(((F.col('Type') == \"slow-growing\") & (F.col('EndFlockSize') > 20600)) |\n",
    "                       ((F.col('Type') == \"medium\") & (F.col('EndFlockSize') > 24300)) |\n",
    "                       ((F.col('Type') == \"conventional\") & (F.col('EndFlockSize') > 35100)), F.col('EndFlockSize')/2)\n",
    "                .otherwise(F.col('EndFlockSize')))"
   ]
  },
  {
   "cell_type": "code",
   "execution_count": 0,
   "metadata": {
    "application/vnd.databricks.v1+cell": {
     "cellMetadata": {
      "byteLimit": 2048000,
      "rowLimit": 10000
     },
     "inputWidgets": {},
     "nuid": "355ceb28-ce35-48df-877b-7914d4b51a42",
     "showTitle": true,
     "title": "Add information on previous flock"
    }
   },
   "outputs": [],
   "source": [
    "dfFlockTotalWithPrevious = dfFlockTotal \\\n",
    "    .withColumn('PreviousFlockType',\n",
    "                F.lag(dfFlockTotal['Type']).over(Window.partitionBy(\"FarmIdentification\",\"Pen\").orderBy(\"Flock\"))) \\\n",
    "    .withColumn('AntibioticsLag1',\n",
    "               F.lag(dfFlockTotal['Antibiotics']).over(Window.partitionBy(\"FarmIdentification\",\"Pen\").orderBy(\"Flock\"))) \\\n",
    "    .withColumn('MortalityLag1',\n",
    "               F.lag(dfFlockTotal['Mortality']).over(Window.partitionBy(\"FarmIdentification\",\"Pen\").orderBy(\"Flock\"))) \\\n",
    "    .withColumn('FootpadLesionsLag1',\n",
    "               F.lag(dfFlockTotal['FootpadLesions']).over(Window.partitionBy(\"FarmIdentification\",\"Pen\").orderBy(\"Flock\")))"
   ]
  },
  {
   "cell_type": "code",
   "execution_count": 0,
   "metadata": {
    "application/vnd.databricks.v1+cell": {
     "cellMetadata": {
      "byteLimit": 2048000,
      "rowLimit": 10000
     },
     "inputWidgets": {},
     "nuid": "e2ccbcdb-2273-4a38-8a45-53995f377042",
     "showTitle": false,
     "title": ""
    }
   },
   "outputs": [],
   "source": [
    "dfFlockTotalWithPrevious.write \\\n",
    "    .format(\"parquet\") \\\n",
    "    .mode(\"overwrite\") \\\n",
    "    .save(\"wasbs://decide@decide.blob.core.windows.net/poultry/nl/data_avinet/dfFlockTotal.parquet\")\n",
    "\n",
    "# first version: 20/9/23\n",
    "# edit:\n",
    "# 22/09/23 with new thinning/slaughter correction and growth curve\n",
    "# 26/09/23 added 2021\n",
    "# 24/10/23 added DDD\n",
    "# 31/10/23 changed farm density to pc2 level\n",
    "# 12/12/23 added KIPNumber, added diagnosis per week\n",
    "# 07/02/24 changed split udf and included hatch dates from thinning events.\n",
    "# 16/02/24 added filter on number of flock IDs"
   ]
  },
  {
   "cell_type": "code",
   "execution_count": 0,
   "metadata": {
    "application/vnd.databricks.v1+cell": {
     "cellMetadata": {
      "byteLimit": 2048000,
      "rowLimit": 10000
     },
     "inputWidgets": {},
     "nuid": "dbbd326c-1865-49d8-b578-3db950295899",
     "showTitle": true,
     "title": "Final Dataset: for R / Tableau"
    }
   },
   "outputs": [],
   "source": [
    "# VERSION WITHOUT LISTS AND WITHOUT CHECKS, FOR R NOTEBOOK AND CSV FILES\n",
    "\n",
    "dfFinalDataset = dfFlockTotalWithPrevious \\\n",
    "    .drop('DiagnosisGroup',\n",
    "         'DiagnosisCode',\n",
    "         'EtiologyCode',\n",
    "         'KilogramsTreated',\n",
    "         'AllSlaughterDates',\n",
    "         'AllAgesAtSlaughter',\n",
    "         'RegisteredDeath',\n",
    "         'NecropsyDiagnosesList',\n",
    "         'GumboroPCRList',\n",
    "         'IntestinalPCRList',\n",
    "         'GumboroElisaList',\n",
    "         'ReoElisaList',\n",
    "         'IbElisaList',\n",
    "         'TreatmentSupplyDates',\n",
    "         'PostalCode',\n",
    "         'AllTreatmentDays',\n",
    "         'DrugList',\n",
    "         'AllAgesAtSlaughter',\n",
    "         'AllAgesAtThinning',\n",
    "         'AllSlaughterDates',\n",
    "         'AllHatchDates') "
   ]
  },
  {
   "cell_type": "code",
   "execution_count": 0,
   "metadata": {
    "application/vnd.databricks.v1+cell": {
     "cellMetadata": {
      "byteLimit": 2048000,
      "rowLimit": 10000
     },
     "inputWidgets": {},
     "nuid": "c1fba871-2be4-4f40-9d3e-c8b05e655cae",
     "showTitle": false,
     "title": ""
    }
   },
   "outputs": [],
   "source": [
    "dfFinalDatasetHalf = dfHalfFlocks \\\n",
    "    .drop('DiagnosisGroup',\n",
    "         'DiagnosisCode',\n",
    "         'EtiologyCode',\n",
    "         'KilogramsTreated',\n",
    "         'AllSlaughterDates',\n",
    "         'AllAgesAtSlaughter',\n",
    "         'RegisteredDeath',\n",
    "         'NecropsyDiagnosesList',\n",
    "         'GumboroPCRList',\n",
    "         'IntestinalPCRList',\n",
    "         'GumboroElisaList',\n",
    "         'ReoElisaList',\n",
    "         'IbElisaList',\n",
    "         'TreatmentSupplyDates',\n",
    "         'PostalCode',\n",
    "         'AllTreatmentDays',\n",
    "         'DrugList',\n",
    "         'AllAgesAtSlaughter',\n",
    "         'AllAgesAtThinning',\n",
    "         'AllSlaughterDates',\n",
    "         'AllHatchDates') "
   ]
  },
  {
   "cell_type": "code",
   "execution_count": 0,
   "metadata": {
    "application/vnd.databricks.v1+cell": {
     "cellMetadata": {
      "byteLimit": 2048000,
      "rowLimit": 10000
     },
     "inputWidgets": {},
     "nuid": "90562a2b-9844-4ea7-b7b5-16912bd791c2",
     "showTitle": false,
     "title": ""
    }
   },
   "outputs": [],
   "source": [
    "dfFinalDataset.write \\\n",
    "    .format(\"csv\") \\\n",
    "    .mode(\"overwrite\") \\\n",
    "    .option(\"header\", True) \\\n",
    "    .save(\"wasbs://decide@decide.blob.core.windows.net/poultry/nl/data_avinet/dfFinalDataset.csv\")\n",
    "\n",
    "# first version: 20-09-23\n",
    "# edit:\n",
    "# 22/09/23 with new thinning/slaughter correction and growth curve\n",
    "# 26/09/23 added 2021\n",
    "# 24/10/23 added DDD (based on treatment days and slaughter age)\n",
    "# 31/10/23 changed farm density to pc2 level\n",
    "# 12/12/23 added KIPNumber, added diagnosis per week\n",
    "# 07/02/24 changed split udf and included hatch dates from thinning events.\n",
    "# 17/02/24 added filter on flock id"
   ]
  },
  {
   "cell_type": "code",
   "execution_count": 0,
   "metadata": {
    "application/vnd.databricks.v1+cell": {
     "cellMetadata": {
      "byteLimit": 2048000,
      "rowLimit": 10000
     },
     "inputWidgets": {},
     "nuid": "351fc469-6d6f-4267-ad20-0b55a15a2858",
     "showTitle": false,
     "title": ""
    }
   },
   "outputs": [],
   "source": [
    "dfFinalDatasetHalf.write \\\n",
    "    .format(\"csv\") \\\n",
    "    .mode(\"overwrite\") \\\n",
    "    .option(\"header\", True) \\\n",
    "    .save(\"wasbs://decide@decide.blob.core.windows.net/poultry/nl/data_avinet/dfFinalDatasetHalfr.csv\")"
   ]
  },
  {
   "cell_type": "markdown",
   "metadata": {
    "application/vnd.databricks.v1+cell": {
     "cellMetadata": {
      "byteLimit": 2048000,
      "rowLimit": 10000
     },
     "inputWidgets": {},
     "nuid": "37ecad07-02ca-4d72-9831-cf8364382ca0",
     "showTitle": false,
     "title": ""
    }
   },
   "source": [
    "\n",
    "# Data for dashboard\n"
   ]
  },
  {
   "cell_type": "code",
   "execution_count": 0,
   "metadata": {
    "application/vnd.databricks.v1+cell": {
     "cellMetadata": {
      "byteLimit": 2048000,
      "rowLimit": 10000
     },
     "inputWidgets": {},
     "nuid": "1b70e64c-5822-4170-b59d-38d6764125a3",
     "showTitle": true,
     "title": "Open dfFinalDataset"
    }
   },
   "outputs": [],
   "source": [
    "dfFinalDataset = spark.read.csv(\"wasbs://decide@decide.blob.core.windows.net/poultry/nl/data_avinet/dfFinalDataset.csv\", header = \"True\")"
   ]
  },
  {
   "cell_type": "code",
   "execution_count": 0,
   "metadata": {
    "application/vnd.databricks.v1+cell": {
     "cellMetadata": {
      "byteLimit": 2048000,
      "rowLimit": 10000
     },
     "inputWidgets": {},
     "nuid": "122dbcf8-fc69-428b-a7bb-f48bfc21e387",
     "showTitle": true,
     "title": "Model 2013"
    }
   },
   "outputs": [],
   "source": [
    "df_2013 = dfFinalDataset \\\n",
    "    .select('FarmIdentification',\n",
    "           'Pen', \n",
    "                'Flock', \n",
    "                'VetId',\n",
    "                'Antibiotics',\n",
    "                'AntibioticsWeek1',\n",
    "                'AntibioticsAfterWeek1',\n",
    "                'NumberOfHouses',\n",
    "                'Type',\n",
    "                'Breed',\n",
    "                'OnFarmHatching',\n",
    "                'Patio',\n",
    "                'HatchYear',\n",
    "                'HatchQuarter',\n",
    "                'MeanAgeAtSlaughter',\n",
    "                'Thinning',\n",
    "                'EndFlockSize',\n",
    "                'PoultryFarmDensity') \\\n",
    "    .filter(F.col('Patio') == 0) \\\n",
    "    .filter(F.col('Type') != \"free range and organic\") \\\n",
    "    .na.drop()"
   ]
  },
  {
   "cell_type": "code",
   "execution_count": 0,
   "metadata": {
    "application/vnd.databricks.v1+cell": {
     "cellMetadata": {
      "byteLimit": 2048000,
      "rowLimit": 10000
     },
     "inputWidgets": {},
     "nuid": "81d18a7f-4b3e-4c04-be5a-7c16dd432055",
     "showTitle": false,
     "title": ""
    }
   },
   "outputs": [],
   "source": [
    "AB_dashboard = df_2013 \\\n",
    "    .drop('Flock', 'VetId', 'FarmIdentification', 'Pen', 'Breed', 'OnFarmHatching', 'Patio', 'MeanAgeAtSlaughter') \\\n",
    "    .withColumn('NumberOfHouses',\n",
    "                F.when(F.col('NumberOfHouses') == 1, \"1\")\n",
    "                .when(F.col('NumberOfHouses') == 2, \"2\")\n",
    "                .when(F.col('NumberOfHouses') == 3, \"3\")\n",
    "                .otherwise(\">3\")\n",
    "                ) \\\n",
    "    .withColumn('EndFlockSize',\n",
    "                F.when(F.col('EndFlockSize') < 18700, \"<18700\")\n",
    "                .when(F.col('EndFlockSize') <= 28830, \"18700-28830\")\n",
    "                .otherwise(\">28830\")\n",
    "                ) \\\n",
    "    .withColumn('PoultryFarmDensity',\n",
    "                F.when(F.col('PoultryFarmDensity') < 0.073, \"<7.3\")\n",
    "                .when(F.col('PoultryFarmDensity') <= 0.165, \"7.3-16.5\")\n",
    "                .otherwise(\">16.5\")\n",
    "                )           "
   ]
  },
  {
   "cell_type": "code",
   "execution_count": 0,
   "metadata": {
    "application/vnd.databricks.v1+cell": {
     "cellMetadata": {
      "byteLimit": 2048000,
      "rowLimit": 10000
     },
     "inputWidgets": {},
     "nuid": "5f952e98-5d21-42c5-aacf-42bb5a752407",
     "showTitle": true,
     "title": "Model 2017 mortality"
    }
   },
   "outputs": [],
   "source": [
    "Mort_dashboard = dfFinalDataset \\\n",
    "    .select('FarmIdentification',\n",
    "           'Pen', \n",
    "                'Flock', \n",
    "                'VetId',\n",
    "                'Antibiotics',\n",
    "                'Mortality',\n",
    "                'NumberOfHouses',\n",
    "                'Type',\n",
    "                'Breed',\n",
    "                'OnFarmHatching',\n",
    "                'Patio',\n",
    "                'HatchYear',\n",
    "                'HatchQuarter',\n",
    "                'MeanAgeAtSlaughter',\n",
    "                'Thinning',\n",
    "                'EndFlockSize',\n",
    "                'PoultryFarmDensity') \\\n",
    "    .filter(F.col('HatchYear') >= 2017) \\\n",
    "    .filter(F.col('Patio') == 0) \\\n",
    "    .filter(F.col('Type') != \"free range and organic\") \\\n",
    "    .na.drop() \\\n",
    "    .drop('Flock', 'VetId', 'FarmIdentification', 'Pen', 'Breed', 'OnFarmHatching', 'Patio', 'MeanAgeAtSlaughter') \\\n",
    "    .withColumn('NumberOfHouses',\n",
    "                F.when(F.col('NumberOfHouses') == 1, \"1\")\n",
    "                .when(F.col('NumberOfHouses') == 2, \"2\")\n",
    "                .when(F.col('NumberOfHouses') == 3, \"3\")\n",
    "                .otherwise(\">3\")\n",
    "                ) \\\n",
    "    .withColumn('EndFlockSize',\n",
    "                F.when(F.col('EndFlockSize') < 18700, \"<18700\")\n",
    "                .when(F.col('EndFlockSize') <= 28830, \"18700-28830\")\n",
    "                .otherwise(\">28830\")\n",
    "                ) \\\n",
    "    .withColumn('PoultryFarmDensity',\n",
    "                F.when(F.col('PoultryFarmDensity') < 0.073, \"<7.3\")\n",
    "                .when(F.col('PoultryFarmDensity') <= 0.165, \"7.3-16.5\")\n",
    "                .otherwise(\">16.5\")\n",
    "                )           "
   ]
  },
  {
   "cell_type": "code",
   "execution_count": 0,
   "metadata": {
    "application/vnd.databricks.v1+cell": {
     "cellMetadata": {
      "byteLimit": 2048000,
      "rowLimit": 10000
     },
     "inputWidgets": {},
     "nuid": "835c4541-3cbb-4302-87f3-c0ceab1de99e",
     "showTitle": false,
     "title": ""
    }
   },
   "outputs": [],
   "source": [
    "FPL_dashboard = dfFinalDataset \\\n",
    "    .select('FarmIdentification',\n",
    "           'Pen', \n",
    "                'Flock', \n",
    "                'VetId',\n",
    "                'Antibiotics',\n",
    "                'FootpadLesions',\n",
    "                'NumberOfHouses',\n",
    "                'Type',\n",
    "                'Breed',\n",
    "                'OnFarmHatching',\n",
    "                'Patio',\n",
    "                'HatchYear',\n",
    "                'HatchQuarter',\n",
    "                'MeanAgeAtSlaughter',\n",
    "                'Thinning',\n",
    "                'EndFlockSize',\n",
    "                'PoultryFarmDensity') \\\n",
    "    .filter(F.col('HatchYear') >= 2017) \\\n",
    "    .filter(F.col('Patio') == 0) \\\n",
    "    .filter(F.col('Type') != \"free range and organic\") \\\n",
    "    .na.drop() \\\n",
    "    .drop('Flock', 'VetId', 'FarmIdentification', 'Pen', 'Breed', 'OnFarmHatching', 'Patio', 'MeanAgeAtSlaughter') \\\n",
    "    .withColumn('NumberOfHouses',\n",
    "                F.when(F.col('NumberOfHouses') == 1, \"1\")\n",
    "                .when(F.col('NumberOfHouses') == 2, \"2\")\n",
    "                .when(F.col('NumberOfHouses') == 3, \"3\")\n",
    "                .otherwise(\">3\")\n",
    "                ) \\\n",
    "    .withColumn('EndFlockSize',\n",
    "                F.when(F.col('EndFlockSize') < 18700, \"<18700\")\n",
    "                .when(F.col('EndFlockSize') <= 28830, \"18700-28830\")\n",
    "                .otherwise(\">28830\")\n",
    "                ) \\\n",
    "    .withColumn('PoultryFarmDensity',\n",
    "                F.when(F.col('PoultryFarmDensity') < 0.073, \"<7.3\")\n",
    "                .when(F.col('PoultryFarmDensity') <= 0.165, \"7.3-16.5\")\n",
    "                .otherwise(\">16.5\")\n",
    "                )   "
   ]
  }
 ],
 "metadata": {
  "application/vnd.databricks.v1+notebook": {
   "dashboards": [],
   "language": "python",
   "notebookMetadata": {
    "pythonIndentUnit": 4
   },
   "notebookName": "2_2 Events to Flocks to Final dataset",
   "widgets": {}
  }
 },
 "nbformat": 4,
 "nbformat_minor": 0
}
