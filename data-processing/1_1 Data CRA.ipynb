{
 "cells": [
  {
   "cell_type": "code",
   "execution_count": 0,
   "metadata": {
    "application/vnd.databricks.v1+cell": {
     "cellMetadata": {
      "byteLimit": 2048000,
      "rowLimit": 10000
     },
     "inputWidgets": {},
     "nuid": "f8d4e208-6071-4a81-b239-743b2a552bb3",
     "showTitle": false,
     "title": ""
    }
   },
   "outputs": [],
   "source": [
    "#fill in directory and key\n",
    "spark.sparkContext.hadoopConfiguration.set()"
   ]
  },
  {
   "cell_type": "code",
   "execution_count": 0,
   "metadata": {
    "application/vnd.databricks.v1+cell": {
     "cellMetadata": {
      "byteLimit": 2048000,
      "rowLimit": 10000
     },
     "inputWidgets": {},
     "nuid": "25ff787a-9cca-444c-97d3-7da6ed60fb8f",
     "showTitle": false,
     "title": ""
    }
   },
   "outputs": [],
   "source": [
    "from pyspark.sql import functions as F\n",
    "from functools import reduce\n",
    "from pyspark.sql.types import StringType\n",
    "import re"
   ]
  },
  {
   "cell_type": "code",
   "execution_count": 0,
   "metadata": {
    "application/vnd.databricks.v1+cell": {
     "cellMetadata": {
      "byteLimit": 2048000,
      "rowLimit": 10000
     },
     "inputWidgets": {},
     "nuid": "63ee1596-8878-4758-9610-9979fb979bec",
     "showTitle": false,
     "title": ""
    }
   },
   "outputs": [],
   "source": [
    "spark.conf.set(\"spark.sql.legacy.timeParserPolicy\",\"LEGACY\")"
   ]
  },
  {
   "cell_type": "markdown",
   "metadata": {
    "application/vnd.databricks.v1+cell": {
     "cellMetadata": {},
     "inputWidgets": {},
     "nuid": "c4e9d0ff-2b0c-4334-8fbe-b8b665c1f48b",
     "showTitle": false,
     "title": "Create seperate dataframes"
    }
   },
   "source": [
    "#Create dataframes from csv files\n",
    "\n",
    "Create dataframes from all the useful tables, with only useful columns, in English.\n",
    "\n",
    "List of created dataframes:\n",
    "- dfFlockPresentation\n",
    "- dfFarmer\n",
    "- dfVisitReason\n",
    "- dfFlockPresentationPresentation\n",
    "- dfFlockPresentationDiagnosis\n",
    "- dfFlockPresentationEtiology\n",
    "- dfFlockPresentationPen\n",
    "- dfSubscription (selection on antibiotics performed later on)\n",
    "- dfPresentation\n",
    "- dfPresentationCategory\n",
    "- dfEtiology\n",
    "- dfDiagnosis\n",
    "- dfDiagnosisGroup\n",
    "- dfDrug  (dfAntibiotic is only antibiotics)\n",
    "- dfFlock\n",
    "- dfPen\n",
    "- dfSupply\n",
    "- dfPackage\n",
    "- dfCompanyType: instead of merging this table with the main table, also possible to replace CompanyType '13' with 'OnFarmHatching' and CompanyType '50' with 'Broiler' (the only ones in the dataset)\n",
    "- dfVetPractice: for veterinary practice ID"
   ]
  },
  {
   "cell_type": "code",
   "execution_count": 0,
   "metadata": {
    "application/vnd.databricks.v1+cell": {
     "cellMetadata": {
      "byteLimit": 2048000,
      "rowLimit": 10000
     },
     "inputWidgets": {},
     "nuid": "16498cd0-5855-421d-8019-0d79d5ee5e0b",
     "showTitle": false,
     "title": ""
    }
   },
   "outputs": [],
   "source": [
    "df = spark. \\\n",
    "  read. \\\n",
    "  option(\"header\", \"true\"). \\\n",
    "  option(\"delimiter\", \",\"). \\\n",
    "  csv(\"//vmp_koppeltype.csv\")"
   ]
  },
  {
   "cell_type": "code",
   "execution_count": 0,
   "metadata": {
    "application/vnd.databricks.v1+cell": {
     "cellMetadata": {
      "byteLimit": 2048000,
      "rowLimit": 10000
     },
     "inputWidgets": {},
     "nuid": "4a56e48a-a5e7-493c-acae-379c1a245850",
     "showTitle": true,
     "title": "Farmer"
    }
   },
   "outputs": [],
   "source": [
    "dfHouder = spark. \\\n",
    "  read. \\\n",
    "  option(\"header\", \"true\"). \\\n",
    "  option(\"delimiter\", \",\"). \\\n",
    "  csv(\"//vmp_houder.csv\")\n",
    "\n",
    "dfFarmer = dfHouder \\\n",
    "    .withColumnRenamed('HDRID','FarmerIdentification') \\\n",
    "    .withColumnRenamed('KIPNUMMER','PoultryFarmIdentification') \\\n",
    "    .withColumnRenamed('UBN','FarmIdentification') \\\n",
    "    .withColumnRenamed('POSTCODE', 'PostalCode') \\\n",
    "    .withColumnRenamed('BEDRIJFSOORT','CompanyType') \\\n",
    "    .drop('WOONPLAATS', 'ADRES', 'KIPBEGINDATUM', 'NAAM', 'DATUM_LAMU', 'USER_LAMU', 'KIPEINDDATUM', 'PMPKUBID', 'STRAAT', 'HUISNR', 'HUISNRTOEV', 'REGISTRATIENUMMER', 'POSTPLAATS', 'POSTADRES', 'POSTPOSTCODE', 'POSTSTRAAT', 'POSTHUISNR', 'POSTHUISNRTOEV', 'SRTCODE', 'PMPKIPID', 'POSTCODE')\n",
    "\n",
    "#change Company Type values with full names:\n",
    "dfFarmer = dfFarmer.withColumn('CompanyType', F.regexp_replace('CompanyType', '50', 'BroilerFarm')) \\\n",
    "    .withColumn('CompanyType', F.regexp_replace('CompanyType', '13', 'Patio'))"
   ]
  },
  {
   "cell_type": "code",
   "execution_count": 0,
   "metadata": {
    "application/vnd.databricks.v1+cell": {
     "cellMetadata": {
      "byteLimit": 2048000,
      "rowLimit": 10000
     },
     "inputWidgets": {},
     "nuid": "493b7406-02a8-47e8-93bb-2eee78206f15",
     "showTitle": true,
     "title": "FlockPresentation"
    }
   },
   "outputs": [],
   "source": [
    "#this is the main table\n",
    "\n",
    "dfKoppelbeeld = spark. \\\n",
    "  read. \\\n",
    "  option(\"header\", \"true\"). \\\n",
    "  option(\"delimiter\", \",\"). \\\n",
    "  option(\"multiline\",\"true\"). \\\n",
    "  csv(\"//vmp_koppelbeeld.csv\")\n",
    "\n",
    "dfFlockPresentation1 = dfKoppelbeeld \\\n",
    "    .withColumnRenamed('KBLID','FlockPresentationIdentification') \\\n",
    "    .withColumnRenamed('HDRID','FarmerIdentification') \\\n",
    "    .withColumnRenamed('CONTACTDATUM','ContactDate') \\\n",
    "    .withColumnRenamed('RELATIENRDAP','VeterinaryPracticeNumber') \\\n",
    "    .withColumnRenamed('OPMERKING','Note') \\\n",
    "    .withColumnRenamed('RELATIENRDA','VeterinarianNumber') \\\n",
    "    .drop('DATUM_LAMU', 'RELNR_LAMU', 'IENR_OPMERKING', 'USER_LAMU', 'SECTIEBEVINDINGEN', 'RBZID')\n",
    "\n",
    "# Necropsy findings and visit reason dropped because mostly NA.\n",
    "\n",
    "# Change data type\n",
    "dfFlockPresentation = dfFlockPresentation1 \\\n",
    "    .withColumn('ContactDate',\n",
    "                F.to_timestamp(dfFlockPresentation1['ContactDate'], \"dd-MM-yy\"))"
   ]
  },
  {
   "cell_type": "code",
   "execution_count": 0,
   "metadata": {
    "application/vnd.databricks.v1+cell": {
     "cellMetadata": {
      "byteLimit": 2048000,
      "rowLimit": 10000
     },
     "inputWidgets": {},
     "nuid": "19042e80-d0c0-44ba-94e3-58bbd28da68d",
     "showTitle": false,
     "title": ""
    }
   },
   "outputs": [],
   "source": [
    "dfFlockPresentationFiltered = dfFlockPresentation \\\n",
    "    .filter(F.col(\"FlockPresentationIdentification\").rlike(\"^[0-9]+$\"))"
   ]
  },
  {
   "cell_type": "code",
   "execution_count": 0,
   "metadata": {
    "application/vnd.databricks.v1+cell": {
     "cellMetadata": {
      "byteLimit": 2048000,
      "rowLimit": 10000
     },
     "inputWidgets": {},
     "nuid": "8e2c505c-ae36-48d8-9860-58ff53c63789",
     "showTitle": true,
     "title": "FlockPresentationPresentation"
    }
   },
   "outputs": [],
   "source": [
    "dfKoppelBeeldBeeld = spark. \\\n",
    "  read. \\\n",
    "  option(\"header\", \"true\"). \\\n",
    "  option(\"delimiter\", \",\"). \\\n",
    "  csv(\"//vmp_koppelbeeldbeeld.csv\")\n",
    "\n",
    "dfFlockPresentationPresentation = dfKoppelBeeldBeeld.withColumnRenamed('KBBID','FlockPresentationPresentationIdentification') \\\n",
    "    .withColumnRenamed('BLDID','PresentationIdentification') \\\n",
    "    .withColumnRenamed('KBLID','FlockPresentationIdentification') \\\n",
    "    .drop('DATUM_LAMU', 'RELNR_LAMU', 'USER_LAMU')"
   ]
  },
  {
   "cell_type": "code",
   "execution_count": 0,
   "metadata": {
    "application/vnd.databricks.v1+cell": {
     "cellMetadata": {
      "byteLimit": 2048000,
      "rowLimit": 10000
     },
     "inputWidgets": {},
     "nuid": "5968d348-7b1b-419e-ace3-13ce070d26d5",
     "showTitle": true,
     "title": "FlockPresentationDiagnosis"
    }
   },
   "outputs": [],
   "source": [
    "dfKoppelBeeldDiagnose = spark. \\\n",
    "  read. \\\n",
    "  option(\"header\", \"true\"). \\\n",
    "  option(\"delimiter\", \",\"). \\\n",
    "  csv(\"//vmp_koppelbeelddiagnose.csv\")\n",
    "\n",
    "dfFlockPresentationDiagnosis = dfKoppelBeeldDiagnose.withColumnRenamed('KBDID','FlockPresentationDiagnosisIdentification') \\\n",
    "    .withColumnRenamed('DGNID','DiagnosisIdentification') \\\n",
    "    .withColumnRenamed('KBLID','FlockPresentationIdentification') \\\n",
    "    .drop('DATUM_LAMU', 'RELNR_LAMU', 'USER_LAMU')"
   ]
  },
  {
   "cell_type": "code",
   "execution_count": 0,
   "metadata": {
    "application/vnd.databricks.v1+cell": {
     "cellMetadata": {
      "byteLimit": 2048000,
      "rowLimit": 10000
     },
     "inputWidgets": {},
     "nuid": "5c135363-5681-440f-b7e2-74e770797175",
     "showTitle": true,
     "title": "FlockPresentationEtiology"
    }
   },
   "outputs": [],
   "source": [
    "dfKoppelBeeldEtiologie = spark. \\\n",
    "  read. \\\n",
    "  option(\"header\", \"true\"). \\\n",
    "  option(\"delimiter\", \",\"). \\\n",
    "  csv(\"//vmp_koppelbeeldetiologie.csv\")\n",
    "\n",
    "dfFlockPresentationEtiology = dfKoppelBeeldEtiologie.withColumnRenamed('KBEID','FlockPresentationEtiologyIdentification') \\\n",
    "    .withColumnRenamed('ETHID','EtiologyIdentification') \\\n",
    "    .withColumnRenamed('KBLID','FlockPresentationIdentification') \\\n",
    "    .drop('DATUM_LAMU', 'RELNR_LAMU', 'USER_LAMU')"
   ]
  },
  {
   "cell_type": "code",
   "execution_count": 0,
   "metadata": {
    "application/vnd.databricks.v1+cell": {
     "cellMetadata": {
      "byteLimit": 2048000,
      "rowLimit": 10000
     },
     "inputWidgets": {},
     "nuid": "29cc84e8-b7de-405f-b76d-b6522646a54b",
     "showTitle": true,
     "title": "FlockPresentationPen"
    }
   },
   "outputs": [],
   "source": [
    "dfKoppelBeeldHok = spark. \\\n",
    "  read. \\\n",
    "  option(\"header\", \"true\"). \\\n",
    "  option(\"delimiter\", \",\"). \\\n",
    "  csv(\"//vmp_koppelbeeldhok.csv\")"
   ]
  },
  {
   "cell_type": "code",
   "execution_count": 0,
   "metadata": {
    "application/vnd.databricks.v1+cell": {
     "cellMetadata": {
      "byteLimit": 2048000,
      "rowLimit": 10000
     },
     "inputWidgets": {},
     "nuid": "432edc43-a77f-4d88-a0f6-d6c9fb0f1d51",
     "showTitle": false,
     "title": ""
    }
   },
   "outputs": [],
   "source": [
    "dfFlockPresentationPen = dfKoppelBeeldHok \\\n",
    "    .withColumnRenamed('KBHID','FlockPresentationPenIdentification') \\\n",
    "    .withColumnRenamed('HOKID','PenIdentification') \\\n",
    "    .withColumnRenamed('KBLID','FlockPresentationIdentification') \\\n",
    "    .drop('DATUM_LAMU', 'RELNR_LAMU', 'USER_LAMU', 'HANEN', 'HENNEN', 'ONGESEXT', 'AANTAL_HANEN', 'AANTAL_HENNEN', 'AANTAL_ONGESEXT')\n",
    "\n",
    "# one FlockPresentationIdentification can belong to multiple PenIdentifications"
   ]
  },
  {
   "cell_type": "code",
   "execution_count": 0,
   "metadata": {
    "application/vnd.databricks.v1+cell": {
     "cellMetadata": {
      "byteLimit": 2048000,
      "rowLimit": 10000
     },
     "inputWidgets": {},
     "nuid": "90f1eb96-5ab2-4eb0-9f80-b27f62b5d598",
     "showTitle": true,
     "title": "Subscription"
    }
   },
   "outputs": [],
   "source": [
    "dfVoorschrift = spark. \\\n",
    "  read. \\\n",
    "  option(\"header\", \"true\"). \\\n",
    "  option(\"delimiter\", \",\"). \\\n",
    "  csv(\"//vmp_koppelbeeldvoorschrift.csv\")\n",
    "\n",
    "dfSubscription = dfVoorschrift.withColumnRenamed('KBVID','SubscriptionIdentification') \\\n",
    "    .withColumnRenamed('BEGINDATUM','TreatmentStartDate') \\\n",
    "    .withColumnRenamed('GNMID','DrugIdentification') \\\n",
    "    .withColumnRenamed('KUURDUURDAGEN','TreatmentDays') \\\n",
    "    .withColumnRenamed('DOSERINGHOEVEELHEID','TreatmentDosage') \\\n",
    "    .withColumnRenamed('KBLID','FlockPresentationIdentification') \\\n",
    "    .withColumnRenamed('DOSERINGEENHEID','TreatmentDosageUnit') \\\n",
    "    .drop('DATUM_LAMU', 'RELNR_LAMU', 'USER_LAMU', 'ISCONFORMBIJSLUITER', 'MELDDATUM', 'OPMERKING')\n",
    "\n",
    "#change data type:\n",
    "dfSubscription = dfSubscription \\\n",
    "    .withColumn('TreatmentDays',\n",
    "                dfSubscription['TreatmentDays'] \\\n",
    "                .cast(\"float\")) \\\n",
    "    .withColumn('TreatmentDosage',\n",
    "                dfSubscription['TreatmentDosage'] \\\n",
    "                .cast(\"integer\")) \\\n",
    "    .withColumn('TreatmentStartDate',\n",
    "                F.to_timestamp(dfSubscription['TreatmentStartDate'], \"yyyy-MM-dd\")) \\\n",
    "    .filter(F.col('TreatmentStartDate') >= \"2013-01-01 00:00:00\") \\\n",
    "    .filter(F.col('TreatmentStartDate') <= \"2021-12-31 00:00:00\")\n",
    "\n",
    "#dfSubscription.printSchema()"
   ]
  },
  {
   "cell_type": "code",
   "execution_count": 0,
   "metadata": {
    "application/vnd.databricks.v1+cell": {
     "cellMetadata": {
      "byteLimit": 2048000,
      "rowLimit": 10000
     },
     "inputWidgets": {},
     "nuid": "92d7a804-a972-4dd4-b0db-8adce60d3e8d",
     "showTitle": true,
     "title": "Supply"
    }
   },
   "outputs": [],
   "source": [
    "dfLevering = spark. \\\n",
    "  read. \\\n",
    "  option(\"header\", \"true\"). \\\n",
    "  option(\"delimiter\", \",\"). \\\n",
    "  option(\"multiline\",\"true\"). \\\n",
    "  csv(\"//vmp_koppelbeeldlevering.csv\")\n",
    "\n",
    "dfSupply = dfLevering \\\n",
    "    .withColumnRenamed('KBLID','FlockPresentationIdentification') \\\n",
    "    .withColumnRenamed('VRPID','PackageIdentification') \\\n",
    "    .withColumnRenamed('DATUM','TreatmentSupplyDate') \\\n",
    "    .withColumnRenamed('AANTAL','NumberSupplied') \\\n",
    "    .drop('LVRID', 'DATUM_LAMU', 'RELNR_LAMU', 'MELDDATUM', 'USER_LAMU', 'OPMERKING', 'KBVID')\n",
    "\n",
    "#change data type:\n",
    "dfSupply = dfSupply \\\n",
    "    .withColumn('TreatmentSupplyDate',\n",
    "                F.to_timestamp(dfSupply['TreatmentSupplyDate'], \"yyyy-MM-dd\")) \\\n",
    "    .withColumn('NumberSupplied',\n",
    "                dfSupply['NumberSupplied'] \\\n",
    "                .cast(\"integer\"))"
   ]
  },
  {
   "cell_type": "code",
   "execution_count": 0,
   "metadata": {
    "application/vnd.databricks.v1+cell": {
     "cellMetadata": {
      "byteLimit": 2048000,
      "rowLimit": 10000
     },
     "inputWidgets": {},
     "nuid": "f6022d21-19a4-4e80-875c-8fee98ac1cc0",
     "showTitle": true,
     "title": "dfPackage"
    }
   },
   "outputs": [],
   "source": [
    "dfVerpakking = spark. \\\n",
    "  read. \\\n",
    "  option(\"header\", \"true\"). \\\n",
    "  option(\"delimiter\", \",\"). \\\n",
    "  option(\"multiline\",\"true\"). \\\n",
    "  csv(\"//vmp_verpakking.csv\")\n",
    "\n",
    "dfPackage = dfVerpakking \\\n",
    "    .withColumnRenamed('VRPID','PackageIdentification') \\\n",
    "    .withColumnRenamed('PRODUCTNAAM','ProductName') \\\n",
    "    .withColumnRenamed('GNMID','DrugIdentification') \\\n",
    "    .withColumnRenamed('BEH_KG_KIP','KilogramsToTreat') \\\n",
    "    .drop('EANCODE', 'VERSIENUMMER', 'VERPAKKINGNAAM', 'VERPAKKINGAANTAL', 'VERPAKKINGEENHEID', 'INGANGSDATUM', 'AANMAAKDATUM',\n",
    "         'DATUM_LAMU','BRON','REGNL','MASTEREANCODE','BEH_KG_KALKOEN','BEH_KG_EEND','USER_LAMU','RELNR_LAMU','LAATSTEWIJZIGING')\n",
    "\n",
    "# note: 'VERPAKKINGAANTAL' is the weight of the package in mg, g, or kg (in case of antibiotics).\n",
    "# 'KilogramsToTreat' is the kilograms of chicken treatable with the package.\n",
    "\n",
    "#change data type:\n",
    "dfPackage = dfPackage \\\n",
    "    .withColumn('KilogramsToTreat',\n",
    "                dfPackage['KilogramsToTreat'] \\\n",
    "                .cast(\"integer\"))"
   ]
  },
  {
   "cell_type": "code",
   "execution_count": 0,
   "metadata": {
    "application/vnd.databricks.v1+cell": {
     "cellMetadata": {
      "byteLimit": 2048000,
      "rowLimit": 10000
     },
     "inputWidgets": {},
     "nuid": "35c52398-6804-4841-a9aa-2d914613e0aa",
     "showTitle": true,
     "title": "Presentation"
    }
   },
   "outputs": [],
   "source": [
    "dfBeeld = spark. \\\n",
    "  read. \\\n",
    "  option(\"header\", \"true\"). \\\n",
    "  option(\"delimiter\", \",\"). \\\n",
    "  csv(\"//vmp_beeld.csv\")\n",
    "\n",
    "dfPresentation = dfBeeld.withColumnRenamed('BLDID','PresentationIdentification') \\\n",
    "    .withColumnRenamed('OMSCHRIJVING','Presentation') \\\n",
    "    .withColumnRenamed('BLCID','PresentationCategoryIdentification') \\\n",
    "    .drop('EWS','VOLGORDE')"
   ]
  },
  {
   "cell_type": "code",
   "execution_count": 0,
   "metadata": {
    "application/vnd.databricks.v1+cell": {
     "cellMetadata": {
      "byteLimit": 2048000,
      "rowLimit": 10000
     },
     "inputWidgets": {},
     "nuid": "4f2c8cb2-ac3e-4610-a2d0-19d21939cb90",
     "showTitle": true,
     "title": "PresentationCategory"
    }
   },
   "outputs": [],
   "source": [
    "dfBeeldCategorie = spark. \\\n",
    "  read. \\\n",
    "  option(\"header\", \"true\"). \\\n",
    "  option(\"delimiter\", \",\"). \\\n",
    "  csv(\"//vmp_beeldcategorie.csv\")\n",
    "\n",
    "dfPresentationCategory = dfBeeldCategorie.withColumnRenamed('BLCID','PresentationCategoryIdentification') \\\n",
    "    .withColumnRenamed('OMSCHRIJVING','PresentationCategory') \\\n",
    "    .drop('VOLGORDE')"
   ]
  },
  {
   "cell_type": "code",
   "execution_count": 0,
   "metadata": {
    "application/vnd.databricks.v1+cell": {
     "cellMetadata": {
      "byteLimit": 2048000,
      "rowLimit": 10000
     },
     "inputWidgets": {},
     "nuid": "6c792314-8ccc-491b-b337-eee3a05d96f1",
     "showTitle": true,
     "title": "Etiology"
    }
   },
   "outputs": [],
   "source": [
    "dfEtiologie = spark. \\\n",
    "  read. \\\n",
    "  option(\"header\", \"true\"). \\\n",
    "  option(\"delimiter\", \",\"). \\\n",
    "  csv(\"//vmp_etiologie.csv\")\n",
    "\n",
    "dfEtiology = dfEtiologie.withColumnRenamed('ETHID','EtiologyIdentification') \\\n",
    "    .withColumnRenamed('CODE','EtiologyCode') \\\n",
    "    .withColumnRenamed('OMSCHRIJVING','EtiologyDescription') \\\n",
    "    .withColumnRenamed('VIRAAL','EtiologyViral') \\\n",
    "    .withColumnRenamed('BACTERIE','EtiologyBacterial') \\\n",
    "    .withColumnRenamed('PARASIET','EtiologyParasitic') \\\n",
    "    .withColumnRenamed('SCHIMMEL','EtiologyFungal') \\\n",
    "    .withColumnRenamed('NIET_INFECTIEUS','EtiologyNonInfectious')"
   ]
  },
  {
   "cell_type": "code",
   "execution_count": 0,
   "metadata": {
    "application/vnd.databricks.v1+cell": {
     "cellMetadata": {
      "byteLimit": 2048000,
      "rowLimit": 10000
     },
     "inputWidgets": {},
     "nuid": "4432c1cf-2867-4f08-8f98-4642f7ccf48a",
     "showTitle": true,
     "title": "Diagnosis"
    }
   },
   "outputs": [],
   "source": [
    "dfDiagnose = spark. \\\n",
    "  read. \\\n",
    "  option(\"header\", \"true\"). \\\n",
    "  option(\"delimiter\", \",\"). \\\n",
    "  csv(\"//vmp_diagnose.csv\")\n",
    "\n",
    "dfDiagnosis = dfDiagnose.withColumnRenamed('DGNID','DiagnosisIdentification') \\\n",
    "    .withColumnRenamed('CODE','DiagnosisCode') \\\n",
    "    .withColumnRenamed('OMSCHRIJVING','DiagnosisDescription') \\\n",
    "    .withColumnRenamed('DGRID','DiagnosisGroupIdentification') \\\n",
    "    .withColumnRenamed('VIRAAL','DiagnosisViral') \\\n",
    "    .withColumnRenamed('BACTERIE','DiagnosisBacterial') \\\n",
    "    .withColumnRenamed('PARASIET','DiagnosisParasitic') \\\n",
    "    .withColumnRenamed('SCHIMMEL','DiagnosisFungal') \\\n",
    "    .withColumnRenamed('NIET_INFECTIEUS','DiagnosisNonInfectious')"
   ]
  },
  {
   "cell_type": "code",
   "execution_count": 0,
   "metadata": {
    "application/vnd.databricks.v1+cell": {
     "cellMetadata": {
      "byteLimit": 2048000,
      "rowLimit": 10000
     },
     "inputWidgets": {},
     "nuid": "09e31562-dc1a-46f2-b988-e4117170c5c2",
     "showTitle": true,
     "title": "DiagnosisGroup"
    }
   },
   "outputs": [],
   "source": [
    "dfDiagnoseGroep = spark. \\\n",
    "  read. \\\n",
    "  option(\"header\", \"true\"). \\\n",
    "  option(\"delimiter\", \",\"). \\\n",
    "  csv(\"//vmp_diagnosegroep.csv\")\n",
    "\n",
    "dfDiagnosisGroup = dfDiagnoseGroep.withColumnRenamed('DGRID','DiagnosisGroupIdentification') \\\n",
    "    .withColumnRenamed('Groep','DiagnosisGroup')"
   ]
  },
  {
   "cell_type": "code",
   "execution_count": 0,
   "metadata": {
    "application/vnd.databricks.v1+cell": {
     "cellMetadata": {
      "byteLimit": 2048000,
      "rowLimit": 10000
     },
     "inputWidgets": {},
     "nuid": "336a5300-02c9-4856-aa41-c5f33eeafd02",
     "showTitle": true,
     "title": "Drug"
    }
   },
   "outputs": [],
   "source": [
    "#NB: dfAntibiotic is antibiotics only\n",
    "\n",
    "dfGeneesmiddel = spark. \\\n",
    "  read. \\\n",
    "  option(\"header\", \"true\"). \\\n",
    "  option(\"delimiter\", \",\"). \\\n",
    "  csv(\"//vmp_geneesmiddel.csv\")\n",
    "\n",
    "dfDrug = dfGeneesmiddel.withColumnRenamed('GNMID','DrugIdentification') \\\n",
    "    .withColumnRenamed('OMSCHRIJVING','DrugDescription') \\\n",
    "    .withColumnRenamed('WERKZAMESTOF','DrugActiveSubstance') \\\n",
    "    .withColumnRenamed('ISANTIBIOTICA','IsAntibiotics') \\\n",
    "    .withColumnRenamed('KEUZE_ANTIBIOTICA','ChoiceAntibiotics') \\\n",
    "    .drop('REGNL', 'FIRMA', 'WACHTTIJDEI', 'BRON', 'ISVACCIN', 'DATUM_INS', 'DATUM_LAMU', 'ISACTIEF', 'ISCASCADE', 'ISCASCADE_KALKOEN', 'WACHTTIJDVLEES', 'TH_GROEP_SDA', 'IN_FORMULARIUM_KALKOEN', 'USER_LAMU', 'RELNR_LAMU')\n",
    " \n",
    "#IsAntibiotics is Yes (J) or No (N)\n",
    "#Selection on antibiotics:\n",
    "dfAntibiotic = dfDrug.filter(dfDrug['IsAntibiotics'] == 'J')\n",
    "dfDrugNoAntibiotic = dfDrug.filter(dfDrug['IsAntibiotics'] == 'N')"
   ]
  },
  {
   "cell_type": "code",
   "execution_count": 0,
   "metadata": {
    "application/vnd.databricks.v1+cell": {
     "cellMetadata": {
      "byteLimit": 2048000,
      "rowLimit": 10000
     },
     "inputWidgets": {},
     "nuid": "9d435ad0-46c8-4c1e-b388-cfb02be4e584",
     "showTitle": true,
     "title": "UDF to correct pen names"
    }
   },
   "outputs": [],
   "source": [
    "def pen_correction(text):\n",
    "    dict = {\n",
    "    \" \" : \"\",\n",
    "    \"-\" : \"\"} \n",
    "    \n",
    "    #if value is Null, do nothing\n",
    "    if text is not None:\n",
    "        # Create a regular expression  from the dictionary keys\n",
    "        regex = re.compile(\"(%s)\" % \"|\".join(map(re.escape, dict.keys())))\n",
    "        # For each match, look-up corresponding value in dictionary\n",
    "        text = regex.sub(lambda mo: dict[mo.string[mo.start():mo.end()]], text)\n",
    "    return text\n",
    "\n",
    "pen_correction_udf = udf(pen_correction, StringType())"
   ]
  },
  {
   "cell_type": "code",
   "execution_count": 0,
   "metadata": {
    "application/vnd.databricks.v1+cell": {
     "cellMetadata": {
      "byteLimit": 2048000,
      "rowLimit": 10000
     },
     "inputWidgets": {},
     "nuid": "07646d62-7f14-4f98-b60a-075eaccd8b56",
     "showTitle": true,
     "title": "Pen"
    }
   },
   "outputs": [],
   "source": [
    "# Note: both PenIdentification and ResidenceIdentification seem to be in the table 'Flock' as well. But this table provides a link with ResidenceNumber, which might be the key for linkage with GD data. (?)\n",
    "# ALSO: ResidenceIdentification is not complete in 'Flock'.\n",
    "\n",
    "dfHok = spark. \\\n",
    "  read. \\\n",
    "  option(\"header\", \"true\"). \\\n",
    "  option(\"delimiter\", \",\"). \\\n",
    "  csv(\"//vmp_hok.csv\")\n",
    "\n",
    "dfPen = dfHok.withColumnRenamed('HOKID','PenIdentification') \\\n",
    "    .withColumnRenamed('VERBLIJFPLAATSNUMMER','PenNumber') \\\n",
    "    .withColumn('PenNumber',\n",
    "                F.explode(\n",
    "                    F.split(\n",
    "                        F.lower(pen_correction_udf(\n",
    "                            F.col('PenNumber'))),\n",
    "                        '\\+|,'))) \\\n",
    "    .drop('DATUM_LAMU', 'USER_LAMU', 'PMPHOKID', 'INGANGSDATUM', 'VERVALDATUM', 'HDRID', 'KIPVERBLIJFPLAATSID', 'AANDUIDING')\n",
    "\n",
    "# not splitting on . and - is on purpose\n",
    "# after exploding: 17 additional rows (0.5%)"
   ]
  },
  {
   "cell_type": "code",
   "execution_count": 0,
   "metadata": {
    "application/vnd.databricks.v1+cell": {
     "cellMetadata": {
      "byteLimit": 2048000,
      "rowLimit": 10000
     },
     "inputWidgets": {},
     "nuid": "8305c010-74d8-4112-b502-170c367e0f93",
     "showTitle": true,
     "title": "Veterinary practice"
    }
   },
   "outputs": [],
   "source": [
    "dfDAP = spark. \\\n",
    "  read. \\\n",
    "  option(\"header\", \"true\"). \\\n",
    "  option(\"delimiter\", \",\"). \\\n",
    "  csv(\"//vmp_dap.csv\")\n",
    "\n",
    "dfVeterinaryPractice = dfDAP \\\n",
    "    .withColumnRenamed('RELATIE_NR','VeterinaryPracticeNumber') \\\n",
    "    .withColumnRenamed('DAPNR','VeterinaryPracticeIdentification') \\\n",
    "    .drop('NAAM', 'WOONPLAATS', 'ADRES', 'TELEFOON')"
   ]
  },
  {
   "cell_type": "markdown",
   "metadata": {
    "application/vnd.databricks.v1+cell": {
     "cellMetadata": {},
     "inputWidgets": {},
     "nuid": "14ee571d-0aaa-4eaf-bb6d-5ccb8b9c6b89",
     "showTitle": false,
     "title": "Merging tables"
    }
   },
   "source": [
    "# Merge tables\n",
    "\n",
    "As last step, merge all tables with the main table FlockPresentation."
   ]
  },
  {
   "cell_type": "code",
   "execution_count": 0,
   "metadata": {
    "application/vnd.databricks.v1+cell": {
     "cellMetadata": {
      "byteLimit": 2048000,
      "rowLimit": 10000
     },
     "inputWidgets": {},
     "nuid": "48757bc2-5aff-45f4-98d8-00608bb7ac9b",
     "showTitle": true,
     "title": "Merge tables on Presentation"
    }
   },
   "outputs": [],
   "source": [
    "# Merge dfPresentationCategory with dfPresentation through key 'PresentationCategoryIdentification' (BLCID)\n",
    "dfPresentation2 = dfPresentation.join(dfPresentationCategory, on=['PresentationCategoryIdentification'], how='left_outer') \\\n",
    "    .drop('PresentationCategoryIdentification')\n",
    "\n",
    "# Merge dfPresentation2 with dfFlockPresentationPresentation through key 'PresentationIdentification' (BLDID)\n",
    "dfFlockPresentationPresentation2 = dfFlockPresentationPresentation.join(dfPresentation2, on=['PresentationIdentification'], how='left_outer') \\\n",
    "    .drop('PresentationIdentification','FlockPresentationPresentationIdentification')\n",
    "\n",
    "#Convert to one entry per FlockPresentationIdentification: concacenate strings in 'Presentation' and 'PresentationCategory'\n",
    "dfFlockPresentationPresentation3 = dfFlockPresentationPresentation2.groupby('FlockPresentationIdentification') \\\n",
    "    .agg(\n",
    "        F.collect_list('Presentation').alias(\"Presentation\"),\n",
    "        F.collect_list('PresentationCategory').alias(\"PresentationCategory\"))\\\n",
    "    .withColumn(\"Presentation\", F.concat_ws(\", \", \"Presentation\")) \\\n",
    "    .withColumn(\"PresentationCategory\", F.concat_ws(\", \", \"PresentationCategory\"))"
   ]
  },
  {
   "cell_type": "code",
   "execution_count": 0,
   "metadata": {
    "application/vnd.databricks.v1+cell": {
     "cellMetadata": {
      "byteLimit": 2048000,
      "rowLimit": 10000
     },
     "inputWidgets": {},
     "nuid": "81048532-142e-49bc-9b70-541a0ba60f75",
     "showTitle": true,
     "title": "Merge tables on Diagnosis"
    }
   },
   "outputs": [],
   "source": [
    "# Merge dfDiagnosisGroup with dfDiagnosis through key 'DiagnosisGroupIdentification' (DGRID)\n",
    "dfDiagnosis2 = dfDiagnosis.join(dfDiagnosisGroup, on=['DiagnosisGroupIdentification'], how='left_outer') \\\n",
    "    .drop('DiagnosisGroupIdentification')\n",
    "\n",
    "# Merge dfFlockPresentationDiagnosis with dfDiagnosis2 through key 'DiagnosisIdentification' (DGNID)\n",
    "dfFlockPresentationDiagnosis2 = dfFlockPresentationDiagnosis.join(dfDiagnosis2, on=['DiagnosisIdentification'], how='left_outer') \\\n",
    "    .drop('FlockPresentationDiagnosisIdentification','DiagnosisIdentification')\n",
    "\n",
    "#Convert to one entry per FlockPresentationIdentification: concacenate strings in all other columns\n",
    "dfFlockPresentationDiagnosis3 = dfFlockPresentationDiagnosis2.groupby('FlockPresentationIdentification') \\\n",
    "    .agg(\n",
    "        F.collect_list('DiagnosisCode').alias(\"DiagnosisCode\"),\n",
    "        F.collect_list('DiagnosisDescription').alias(\"DiagnosisDescription\"),\n",
    "        F.collect_list('DiagnosisViral').alias(\"DiagnosisViral\"),\n",
    "        F.collect_list('DiagnosisBacterial').alias(\"DiagnosisBacterial\"),\n",
    "        F.collect_list('DiagnosisParasitic').alias(\"DiagnosisParasitic\"),\n",
    "        F.collect_list('DiagnosisFungal').alias(\"DiagnosisFungal\"),\n",
    "        F.collect_list('DiagnosisNonInfectious').alias(\"DiagnosisNonInfectious\"),\n",
    "        F.collect_list('DiagnosisGroup').alias(\"DiagnosisGroup\"))\\\n",
    "    .withColumn(\"DiagnosisCode\", F.concat_ws(\", \", \"DiagnosisCode\")) \\\n",
    "    .withColumn(\"DiagnosisDescription\", F.concat_ws(\", \", \"DiagnosisDescription\")) \\\n",
    "    .withColumn(\"DiagnosisViral\", F.concat_ws(\", \", \"DiagnosisViral\")) \\\n",
    "    .withColumn(\"DiagnosisBacterial\", F.concat_ws(\", \", \"DiagnosisBacterial\")) \\\n",
    "    .withColumn(\"DiagnosisParasitic\", F.concat_ws(\", \", \"DiagnosisParasitic\")) \\\n",
    "    .withColumn(\"DiagnosisFungal\", F.concat_ws(\", \", \"DiagnosisFungal\")) \\\n",
    "    .withColumn(\"DiagnosisNonInfectious\", F.concat_ws(\", \", \"DiagnosisNonInfectious\")) \\\n",
    "    .withColumn(\"DiagnosisGroup\", F.concat_ws(\", \", \"DiagnosisGroup\"))\n",
    "    "
   ]
  },
  {
   "cell_type": "code",
   "execution_count": 0,
   "metadata": {
    "application/vnd.databricks.v1+cell": {
     "cellMetadata": {
      "byteLimit": 2048000,
      "rowLimit": 10000
     },
     "inputWidgets": {},
     "nuid": "67567d98-e129-4a44-bef4-9380ff46715b",
     "showTitle": true,
     "title": "Merge tables on Etiology"
    }
   },
   "outputs": [],
   "source": [
    "# Merge dfFlockPresentationEtiology with dfEtiology through key 'EtiologyIdentification' (ETHID)\n",
    "dfFlockPresentationEtiology2 = dfFlockPresentationEtiology.join(dfEtiology, on=['EtiologyIdentification'], how='left_outer') \\\n",
    "    .drop('FlockPresentationEtiologyIdentification','EtiologyIdentification')\n",
    "\n",
    "# The same FlockPresentationIdentification can have duplicate EtiologyCodes. So filter on distinct().\n",
    "# Also convert to one entry per FlockPresentationIdentification: concacenate strings in all other columns.\n",
    "\n",
    "dfFlockPresentationEtiology3 = dfFlockPresentationEtiology2 \\\n",
    "    .distinct() \\\n",
    "    .groupby('FlockPresentationIdentification') \\\n",
    "    .agg(\n",
    "        F.collect_list('EtiologyCode').alias(\"EtiologyCode\"),\n",
    "        F.collect_list('EtiologyDescription').alias(\"EtiologyDescription\"),\n",
    "        F.collect_list('EtiologyViral').alias(\"EtiologyViral\"),\n",
    "        F.collect_list('EtiologyBacterial').alias(\"EtiologyBacterial\"),\n",
    "        F.collect_list('EtiologyParasitic').alias(\"EtiologyParasitic\"),\n",
    "        F.collect_list('EtiologyFungal').alias(\"EtiologyFungal\"),\n",
    "        F.collect_list('EtiologyNonInfectious').alias(\"EtiologyNonInfectious\")) \\\n",
    "    .withColumn(\"EtiologyCode\", F.concat_ws(\", \", \"EtiologyCode\")) \\\n",
    "    .withColumn(\"EtiologyDescription\", F.concat_ws(\", \", \"EtiologyDescription\")) \\\n",
    "    .withColumn(\"EtiologyViral\", F.concat_ws(\", \", \"EtiologyViral\")) \\\n",
    "    .withColumn(\"EtiologyBacterial\", F.concat_ws(\", \", \"EtiologyBacterial\")) \\\n",
    "    .withColumn(\"EtiologyParasitic\", F.concat_ws(\", \", \"EtiologyParasitic\")) \\\n",
    "    .withColumn(\"EtiologyFungal\", F.concat_ws(\", \", \"EtiologyFungal\")) \\\n",
    "    .withColumn(\"EtiologyNonInfectious\", F.concat_ws(\", \", \"EtiologyNonInfectious\"))"
   ]
  },
  {
   "cell_type": "code",
   "execution_count": 0,
   "metadata": {
    "application/vnd.databricks.v1+cell": {
     "cellMetadata": {
      "byteLimit": 2048000,
      "rowLimit": 10000
     },
     "inputWidgets": {},
     "nuid": "6918eac1-83db-4d63-bf64-3095ba0c137e",
     "showTitle": true,
     "title": "Merge tables on Supply, Package and Drug"
    }
   },
   "outputs": [],
   "source": [
    "# dfSupply contains 100% PackageIdentification, dfPackage contains 100% DrugIdentification.\n",
    "\n",
    "dfSupply2 = dfSupply \\\n",
    "    .join(dfPackage, on=['PackageIdentification'], how='left_outer') \\\n",
    "    .join(dfDrug, on=['DrugIdentification'], how='left_outer') \\\n",
    "    .drop('DrugIdentification','PackageIdentification')"
   ]
  },
  {
   "cell_type": "code",
   "execution_count": 0,
   "metadata": {
    "application/vnd.databricks.v1+cell": {
     "cellMetadata": {
      "byteLimit": 2048000,
      "rowLimit": 10000
     },
     "inputWidgets": {},
     "nuid": "b15e7b5f-b605-46f2-80bb-f2beeb598746",
     "showTitle": true,
     "title": "Merge tables on Pen"
    }
   },
   "outputs": [],
   "source": [
    "# Merge dfFlockPresentationPen with dfPen through key 'PenIdentification' (HOKID)\n",
    "dfFlockPresentationPen2 = dfFlockPresentationPen.join(dfPen, on=['PenIdentification'], how='left_outer') \\\n",
    "    .drop('FlockPresentationPenIdentification','PenIdentification')\n",
    "\n",
    "# One FlockPresentationIdentification can contain multiple pens. This is good, because we want to seperate on pen.\n",
    "# The total dataset (dfFlockPresentationFull) should be longer than dfFlockPresentation."
   ]
  },
  {
   "cell_type": "code",
   "execution_count": 0,
   "metadata": {
    "application/vnd.databricks.v1+cell": {
     "cellMetadata": {
      "byteLimit": 2048000,
      "rowLimit": 10000
     },
     "inputWidgets": {},
     "nuid": "7e375010-2cb5-46b9-b0a3-1b51fbd48fb7",
     "showTitle": false,
     "title": ""
    }
   },
   "outputs": [],
   "source": [
    "dfNumberOfPensPerFlockPresentation = dfFlockPresentationFiltered \\\n",
    "    .join(dfFlockPresentationPen2, on=['FlockPresentationIdentification'], how='left_outer') \\\n",
    "    .groupBy('FlockPresentationIdentification').count() \\\n",
    "    .withColumn('count', F.col('count').cast(\"integer\"))"
   ]
  },
  {
   "cell_type": "code",
   "execution_count": 0,
   "metadata": {
    "application/vnd.databricks.v1+cell": {
     "cellMetadata": {
      "byteLimit": 2048000,
      "rowLimit": 10000
     },
     "inputWidgets": {},
     "nuid": "7fbf04b8-d89e-46fc-a2ab-620911921f2d",
     "showTitle": true,
     "title": "Merge all tables with dfFlockPresentation"
    }
   },
   "outputs": [],
   "source": [
    "# dfFlockPresentationFiltered because then all FlockPresentationIdentifications are correct numbers.\n",
    "# Merge dfFlockPresentation with dfFlockPresentationPresentation2 through key 'FlockPresentationIdentification' (KBLID)\n",
    "# Merge dfFlockPresentation with dfFlockPresentationDiagnosis2 through key 'FlockPresentationIdentification' (KBLID)\n",
    "# Merge dfFlockPresentation with dfFlockPresentationEtiology2 through key 'FlockPresentationIdentification' (KBLID)\n",
    "# Merge dfFlockPresentation with dfSupply2 through key 'FlockPresentationIdentification' (KBLID)\n",
    "# Merge dfFlockPresentation with dfFlockPresentationPen2 through key 'FlockPresentationIdentification' (KBLID)\n",
    "# Merge dfFlockPresentation with dfFarmer through key 'FarmerIdentification'\n",
    "# Merge dfVeterinaryPractice. Rename VeterinaryPractiIdentification as VeterinaryPracticeNumber, so that nothing has to be changed in later steps. VeterinaryPracticeNumber is now the same as in NDV titer \n",
    "\n",
    "# And exclude contact dates 2010-2012\n",
    "\n",
    "# merge with dfNumberOfPensPerFlockPresentation to get a column with the number of pens belonging to that FlockPresentationID (useful for calculating kg antibiotics)\n",
    "\n",
    "dfFlockPresentationFull = dfFlockPresentationFiltered \\\n",
    "    .join(dfFlockPresentationPen2, on=['FlockPresentationIdentification'], how='left_outer') \\\n",
    "    .join(dfNumberOfPensPerFlockPresentation, on=['FlockPresentationIdentification'], how='left_outer') \\\n",
    "    .join(dfFlockPresentationPresentation3, on=['FlockPresentationIdentification'], how='left_outer') \\\n",
    "    .join(dfFlockPresentationDiagnosis3, on=['FlockPresentationIdentification'], how='left_outer') \\\n",
    "    .join(dfFlockPresentationEtiology3, on=['FlockPresentationIdentification'], how='left_outer') \\\n",
    "    .join(dfSupply2, on=['FlockPresentationIdentification'], how='left_outer') \\\n",
    "    .join(dfSubscription, on=[\"FlockPresentationIdentification\"], how = 'left_outer') \\\n",
    "    .join(dfFarmer, on=['FarmerIdentification'], how='left_outer') \\\n",
    "    .join(dfVeterinaryPractice, on=['VeterinaryPracticeNumber'], how = 'left_outer') \\\n",
    "    .drop('FarmerIdentification', 'VeterinaryPracticeNumber') \\\n",
    "    .withColumnRenamed('VeterinaryPracticeIdentification', 'VetId')\n",
    "   \n",
    "# Note: this dataset contains A LOT of entries without supply of medicines.\n",
    "# They are filtered in dfAntibiotics."
   ]
  },
  {
   "cell_type": "code",
   "execution_count": 0,
   "metadata": {
    "application/vnd.databricks.v1+cell": {
     "cellMetadata": {},
     "inputWidgets": {},
     "nuid": "e9104cbe-5d6d-4dbf-9276-3414ee59508a",
     "showTitle": true,
     "title": "Flock (PMP)"
    }
   },
   "outputs": [
    {
     "output_type": "display_data",
     "data": {
      "text/html": [
       "<style scoped>\n",
       "  .ansiout {\n",
       "    display: block;\n",
       "    unicode-bidi: embed;\n",
       "    white-space: pre-wrap;\n",
       "    word-wrap: break-word;\n",
       "    word-break: break-all;\n",
       "    font-family: \"Menlo\", \"Monaco\", \"Consolas\", \"Ubuntu Mono\", \"Source Code Pro\", monospace;\n",
       "    font-size: 13px;\n",
       "    color: #555;\n",
       "    margin-left: 4px;\n",
       "    line-height: 19px;\n",
       "  }\n",
       "</style>\n",
       "\u001B[0;31m---------------------------------------------------------------------------\u001B[0m\n",
       "\u001B[0;31mNameError\u001B[0m                                 Traceback (most recent call last)\n",
       "File \u001B[0;32m<command-1190174778504758>:1\u001B[0m\n",
       "\u001B[0;32m----> 1\u001B[0m dfFlock \u001B[38;5;241m=\u001B[39m \u001B[43mdfKoppel\u001B[49m\u001B[38;5;241m.\u001B[39mwithColumnRenamed(\u001B[38;5;124m'\u001B[39m\u001B[38;5;124mKPLID\u001B[39m\u001B[38;5;124m'\u001B[39m,\u001B[38;5;124m'\u001B[39m\u001B[38;5;124mFlockIdentification\u001B[39m\u001B[38;5;124m'\u001B[39m) \\\n",
       "\u001B[1;32m      2\u001B[0m     \u001B[38;5;241m.\u001B[39mwithColumnRenamed(\u001B[38;5;124m'\u001B[39m\u001B[38;5;124mGEBOORTEDATUM\u001B[39m\u001B[38;5;124m'\u001B[39m,\u001B[38;5;124m'\u001B[39m\u001B[38;5;124mHatchDate\u001B[39m\u001B[38;5;124m'\u001B[39m) \\\n",
       "\u001B[1;32m      3\u001B[0m     \u001B[38;5;241m.\u001B[39mwithColumnRenamed(\u001B[38;5;124m'\u001B[39m\u001B[38;5;124mAFVOERDATUM\u001B[39m\u001B[38;5;124m'\u001B[39m,\u001B[38;5;124m'\u001B[39m\u001B[38;5;124mRemovalDate\u001B[39m\u001B[38;5;124m'\u001B[39m) \\\n",
       "\u001B[1;32m      4\u001B[0m     \u001B[38;5;241m.\u001B[39mwithColumnRenamed(\u001B[38;5;124m'\u001B[39m\u001B[38;5;124mAANTALOPGEZET\u001B[39m\u001B[38;5;124m'\u001B[39m,\u001B[38;5;124m'\u001B[39m\u001B[38;5;124mNumberPlaced\u001B[39m\u001B[38;5;124m'\u001B[39m) \\\n",
       "\u001B[1;32m      5\u001B[0m     \u001B[38;5;241m.\u001B[39mwithColumnRenamed(\u001B[38;5;124m'\u001B[39m\u001B[38;5;124mRASCODE\u001B[39m\u001B[38;5;124m'\u001B[39m,\u001B[38;5;124m'\u001B[39m\u001B[38;5;124mBreedCode\u001B[39m\u001B[38;5;124m'\u001B[39m) \\\n",
       "\u001B[1;32m      6\u001B[0m     \u001B[38;5;241m.\u001B[39mwithColumnRenamed(\u001B[38;5;124m'\u001B[39m\u001B[38;5;124mHDRID\u001B[39m\u001B[38;5;124m'\u001B[39m,\u001B[38;5;124m'\u001B[39m\u001B[38;5;124mFarmerIdentification\u001B[39m\u001B[38;5;124m'\u001B[39m) \\\n",
       "\u001B[1;32m      7\u001B[0m     \u001B[38;5;241m.\u001B[39mwithColumnRenamed(\u001B[38;5;124m'\u001B[39m\u001B[38;5;124mHOKID\u001B[39m\u001B[38;5;124m'\u001B[39m,\u001B[38;5;124m'\u001B[39m\u001B[38;5;124mPenIdentification\u001B[39m\u001B[38;5;124m'\u001B[39m) \\\n",
       "\u001B[1;32m      8\u001B[0m     \u001B[38;5;241m.\u001B[39mwithColumnRenamed(\u001B[38;5;124m'\u001B[39m\u001B[38;5;124mRASOMSCHRIJVING\u001B[39m\u001B[38;5;124m'\u001B[39m,\u001B[38;5;124m'\u001B[39m\u001B[38;5;124mBreedDescription\u001B[39m\u001B[38;5;124m'\u001B[39m) \\\n",
       "\u001B[1;32m      9\u001B[0m     \u001B[38;5;241m.\u001B[39mwithColumnRenamed(\u001B[38;5;124m'\u001B[39m\u001B[38;5;124mAANTALLEVENSDAGEN\u001B[39m\u001B[38;5;124m'\u001B[39m,\u001B[38;5;124m'\u001B[39m\u001B[38;5;124mNumberOfLifeDays\u001B[39m\u001B[38;5;124m'\u001B[39m) \\\n",
       "\u001B[1;32m     10\u001B[0m     \u001B[38;5;241m.\u001B[39mwithColumnRenamed(\u001B[38;5;124m'\u001B[39m\u001B[38;5;124mOPZETDATUM\u001B[39m\u001B[38;5;124m'\u001B[39m,\u001B[38;5;124m'\u001B[39m\u001B[38;5;124mPlacementDate\u001B[39m\u001B[38;5;124m'\u001B[39m) \\\n",
       "\u001B[1;32m     11\u001B[0m     \u001B[38;5;241m.\u001B[39mwithColumnRenamed(\u001B[38;5;124m'\u001B[39m\u001B[38;5;124mAANTALOPGEZET_HANEN\u001B[39m\u001B[38;5;124m'\u001B[39m,\u001B[38;5;124m'\u001B[39m\u001B[38;5;124mNumberOfRoostersPlaced\u001B[39m\u001B[38;5;124m'\u001B[39m) \\\n",
       "\u001B[1;32m     12\u001B[0m     \u001B[38;5;241m.\u001B[39mwithColumnRenamed(\u001B[38;5;124m'\u001B[39m\u001B[38;5;124mAFVOERDATUMGEPLAND\u001B[39m\u001B[38;5;124m'\u001B[39m,\u001B[38;5;124m'\u001B[39m\u001B[38;5;124mPlannedRemovalDate\u001B[39m\u001B[38;5;124m'\u001B[39m) \\\n",
       "\u001B[1;32m     13\u001B[0m     \u001B[38;5;241m.\u001B[39mwithColumnRenamed(\u001B[38;5;124m'\u001B[39m\u001B[38;5;124mGROEICURVESOORT\u001B[39m\u001B[38;5;124m'\u001B[39m,\u001B[38;5;124m'\u001B[39m\u001B[38;5;124mGrowthCurve\u001B[39m\u001B[38;5;124m'\u001B[39m) \\\n",
       "\u001B[1;32m     14\u001B[0m     \u001B[38;5;241m.\u001B[39mwithColumnRenamed(\u001B[38;5;124m'\u001B[39m\u001B[38;5;124mPMPKOPPELID\u001B[39m\u001B[38;5;124m'\u001B[39m, \u001B[38;5;124m'\u001B[39m\u001B[38;5;124mMonitoringIdentification\u001B[39m\u001B[38;5;124m'\u001B[39m) \\\n",
       "\u001B[1;32m     15\u001B[0m     \u001B[38;5;241m.\u001B[39mjoin(dfFarmer, on\u001B[38;5;241m=\u001B[39m[\u001B[38;5;124m'\u001B[39m\u001B[38;5;124mFarmerIdentification\u001B[39m\u001B[38;5;124m'\u001B[39m], how\u001B[38;5;241m=\u001B[39m\u001B[38;5;124m'\u001B[39m\u001B[38;5;124mleft_outer\u001B[39m\u001B[38;5;124m'\u001B[39m) \\\n",
       "\u001B[1;32m     16\u001B[0m     \u001B[38;5;241m.\u001B[39mjoin(dfPen, on\u001B[38;5;241m=\u001B[39m[\u001B[38;5;124m'\u001B[39m\u001B[38;5;124mPenIdentification\u001B[39m\u001B[38;5;124m'\u001B[39m], how\u001B[38;5;241m=\u001B[39m\u001B[38;5;124m'\u001B[39m\u001B[38;5;124mleft_outer\u001B[39m\u001B[38;5;124m'\u001B[39m) \\\n",
       "\u001B[1;32m     17\u001B[0m     \u001B[38;5;241m.\u001B[39mdrop(\u001B[38;5;124m'\u001B[39m\u001B[38;5;124mKIPKOPPELID\u001B[39m\u001B[38;5;124m'\u001B[39m, \u001B[38;5;124m'\u001B[39m\u001B[38;5;124mKIPVERBLIJFPLAATSID\u001B[39m\u001B[38;5;124m'\u001B[39m, \u001B[38;5;124m'\u001B[39m\u001B[38;5;124mDATUM_LAMU\u001B[39m\u001B[38;5;124m'\u001B[39m, \u001B[38;5;124m'\u001B[39m\u001B[38;5;124mUSER_LAMU\u001B[39m\u001B[38;5;124m'\u001B[39m, \u001B[38;5;124m'\u001B[39m\u001B[38;5;124mMonitoringIdentification\u001B[39m\u001B[38;5;124m'\u001B[39m, \u001B[38;5;124m'\u001B[39m\u001B[38;5;124mPVTID\u001B[39m\u001B[38;5;124m'\u001B[39m,\n",
       "\u001B[1;32m     18\u001B[0m           \u001B[38;5;124m'\u001B[39m\u001B[38;5;124mNumberOfRoostersPlaced\u001B[39m\u001B[38;5;124m'\u001B[39m, \u001B[38;5;124m'\u001B[39m\u001B[38;5;124mAANTALOPGEZET_HENNEN\u001B[39m\u001B[38;5;124m'\u001B[39m, \u001B[38;5;124m'\u001B[39m\u001B[38;5;124mAANTALOPGEZET_ONGESEXT\u001B[39m\u001B[38;5;124m'\u001B[39m, \u001B[38;5;124m'\u001B[39m\u001B[38;5;124mLIJNINFO\u001B[39m\u001B[38;5;124m'\u001B[39m, \u001B[38;5;124m'\u001B[39m\u001B[38;5;124mPostalCode\u001B[39m\u001B[38;5;124m'\u001B[39m, \u001B[38;5;124m'\u001B[39m\u001B[38;5;124mCompanyType\u001B[39m\u001B[38;5;124m'\u001B[39m)\n",
       "\n",
       "\u001B[0;31mNameError\u001B[0m: name 'dfKoppel' is not defined"
      ]
     },
     "metadata": {
      "application/vnd.databricks.v1+output": {
       "arguments": {},
       "data": "\u001B[0;31m---------------------------------------------------------------------------\u001B[0m\n\u001B[0;31mNameError\u001B[0m                                 Traceback (most recent call last)\nFile \u001B[0;32m<command-1190174778504758>:1\u001B[0m\n\u001B[0;32m----> 1\u001B[0m dfFlock \u001B[38;5;241m=\u001B[39m \u001B[43mdfKoppel\u001B[49m\u001B[38;5;241m.\u001B[39mwithColumnRenamed(\u001B[38;5;124m'\u001B[39m\u001B[38;5;124mKPLID\u001B[39m\u001B[38;5;124m'\u001B[39m,\u001B[38;5;124m'\u001B[39m\u001B[38;5;124mFlockIdentification\u001B[39m\u001B[38;5;124m'\u001B[39m) \\\n\u001B[1;32m      2\u001B[0m     \u001B[38;5;241m.\u001B[39mwithColumnRenamed(\u001B[38;5;124m'\u001B[39m\u001B[38;5;124mGEBOORTEDATUM\u001B[39m\u001B[38;5;124m'\u001B[39m,\u001B[38;5;124m'\u001B[39m\u001B[38;5;124mHatchDate\u001B[39m\u001B[38;5;124m'\u001B[39m) \\\n\u001B[1;32m      3\u001B[0m     \u001B[38;5;241m.\u001B[39mwithColumnRenamed(\u001B[38;5;124m'\u001B[39m\u001B[38;5;124mAFVOERDATUM\u001B[39m\u001B[38;5;124m'\u001B[39m,\u001B[38;5;124m'\u001B[39m\u001B[38;5;124mRemovalDate\u001B[39m\u001B[38;5;124m'\u001B[39m) \\\n\u001B[1;32m      4\u001B[0m     \u001B[38;5;241m.\u001B[39mwithColumnRenamed(\u001B[38;5;124m'\u001B[39m\u001B[38;5;124mAANTALOPGEZET\u001B[39m\u001B[38;5;124m'\u001B[39m,\u001B[38;5;124m'\u001B[39m\u001B[38;5;124mNumberPlaced\u001B[39m\u001B[38;5;124m'\u001B[39m) \\\n\u001B[1;32m      5\u001B[0m     \u001B[38;5;241m.\u001B[39mwithColumnRenamed(\u001B[38;5;124m'\u001B[39m\u001B[38;5;124mRASCODE\u001B[39m\u001B[38;5;124m'\u001B[39m,\u001B[38;5;124m'\u001B[39m\u001B[38;5;124mBreedCode\u001B[39m\u001B[38;5;124m'\u001B[39m) \\\n\u001B[1;32m      6\u001B[0m     \u001B[38;5;241m.\u001B[39mwithColumnRenamed(\u001B[38;5;124m'\u001B[39m\u001B[38;5;124mHDRID\u001B[39m\u001B[38;5;124m'\u001B[39m,\u001B[38;5;124m'\u001B[39m\u001B[38;5;124mFarmerIdentification\u001B[39m\u001B[38;5;124m'\u001B[39m) \\\n\u001B[1;32m      7\u001B[0m     \u001B[38;5;241m.\u001B[39mwithColumnRenamed(\u001B[38;5;124m'\u001B[39m\u001B[38;5;124mHOKID\u001B[39m\u001B[38;5;124m'\u001B[39m,\u001B[38;5;124m'\u001B[39m\u001B[38;5;124mPenIdentification\u001B[39m\u001B[38;5;124m'\u001B[39m) \\\n\u001B[1;32m      8\u001B[0m     \u001B[38;5;241m.\u001B[39mwithColumnRenamed(\u001B[38;5;124m'\u001B[39m\u001B[38;5;124mRASOMSCHRIJVING\u001B[39m\u001B[38;5;124m'\u001B[39m,\u001B[38;5;124m'\u001B[39m\u001B[38;5;124mBreedDescription\u001B[39m\u001B[38;5;124m'\u001B[39m) \\\n\u001B[1;32m      9\u001B[0m     \u001B[38;5;241m.\u001B[39mwithColumnRenamed(\u001B[38;5;124m'\u001B[39m\u001B[38;5;124mAANTALLEVENSDAGEN\u001B[39m\u001B[38;5;124m'\u001B[39m,\u001B[38;5;124m'\u001B[39m\u001B[38;5;124mNumberOfLifeDays\u001B[39m\u001B[38;5;124m'\u001B[39m) \\\n\u001B[1;32m     10\u001B[0m     \u001B[38;5;241m.\u001B[39mwithColumnRenamed(\u001B[38;5;124m'\u001B[39m\u001B[38;5;124mOPZETDATUM\u001B[39m\u001B[38;5;124m'\u001B[39m,\u001B[38;5;124m'\u001B[39m\u001B[38;5;124mPlacementDate\u001B[39m\u001B[38;5;124m'\u001B[39m) \\\n\u001B[1;32m     11\u001B[0m     \u001B[38;5;241m.\u001B[39mwithColumnRenamed(\u001B[38;5;124m'\u001B[39m\u001B[38;5;124mAANTALOPGEZET_HANEN\u001B[39m\u001B[38;5;124m'\u001B[39m,\u001B[38;5;124m'\u001B[39m\u001B[38;5;124mNumberOfRoostersPlaced\u001B[39m\u001B[38;5;124m'\u001B[39m) \\\n\u001B[1;32m     12\u001B[0m     \u001B[38;5;241m.\u001B[39mwithColumnRenamed(\u001B[38;5;124m'\u001B[39m\u001B[38;5;124mAFVOERDATUMGEPLAND\u001B[39m\u001B[38;5;124m'\u001B[39m,\u001B[38;5;124m'\u001B[39m\u001B[38;5;124mPlannedRemovalDate\u001B[39m\u001B[38;5;124m'\u001B[39m) \\\n\u001B[1;32m     13\u001B[0m     \u001B[38;5;241m.\u001B[39mwithColumnRenamed(\u001B[38;5;124m'\u001B[39m\u001B[38;5;124mGROEICURVESOORT\u001B[39m\u001B[38;5;124m'\u001B[39m,\u001B[38;5;124m'\u001B[39m\u001B[38;5;124mGrowthCurve\u001B[39m\u001B[38;5;124m'\u001B[39m) \\\n\u001B[1;32m     14\u001B[0m     \u001B[38;5;241m.\u001B[39mwithColumnRenamed(\u001B[38;5;124m'\u001B[39m\u001B[38;5;124mPMPKOPPELID\u001B[39m\u001B[38;5;124m'\u001B[39m, \u001B[38;5;124m'\u001B[39m\u001B[38;5;124mMonitoringIdentification\u001B[39m\u001B[38;5;124m'\u001B[39m) \\\n\u001B[1;32m     15\u001B[0m     \u001B[38;5;241m.\u001B[39mjoin(dfFarmer, on\u001B[38;5;241m=\u001B[39m[\u001B[38;5;124m'\u001B[39m\u001B[38;5;124mFarmerIdentification\u001B[39m\u001B[38;5;124m'\u001B[39m], how\u001B[38;5;241m=\u001B[39m\u001B[38;5;124m'\u001B[39m\u001B[38;5;124mleft_outer\u001B[39m\u001B[38;5;124m'\u001B[39m) \\\n\u001B[1;32m     16\u001B[0m     \u001B[38;5;241m.\u001B[39mjoin(dfPen, on\u001B[38;5;241m=\u001B[39m[\u001B[38;5;124m'\u001B[39m\u001B[38;5;124mPenIdentification\u001B[39m\u001B[38;5;124m'\u001B[39m], how\u001B[38;5;241m=\u001B[39m\u001B[38;5;124m'\u001B[39m\u001B[38;5;124mleft_outer\u001B[39m\u001B[38;5;124m'\u001B[39m) \\\n\u001B[1;32m     17\u001B[0m     \u001B[38;5;241m.\u001B[39mdrop(\u001B[38;5;124m'\u001B[39m\u001B[38;5;124mKIPKOPPELID\u001B[39m\u001B[38;5;124m'\u001B[39m, \u001B[38;5;124m'\u001B[39m\u001B[38;5;124mKIPVERBLIJFPLAATSID\u001B[39m\u001B[38;5;124m'\u001B[39m, \u001B[38;5;124m'\u001B[39m\u001B[38;5;124mDATUM_LAMU\u001B[39m\u001B[38;5;124m'\u001B[39m, \u001B[38;5;124m'\u001B[39m\u001B[38;5;124mUSER_LAMU\u001B[39m\u001B[38;5;124m'\u001B[39m, \u001B[38;5;124m'\u001B[39m\u001B[38;5;124mMonitoringIdentification\u001B[39m\u001B[38;5;124m'\u001B[39m, \u001B[38;5;124m'\u001B[39m\u001B[38;5;124mPVTID\u001B[39m\u001B[38;5;124m'\u001B[39m,\n\u001B[1;32m     18\u001B[0m           \u001B[38;5;124m'\u001B[39m\u001B[38;5;124mNumberOfRoostersPlaced\u001B[39m\u001B[38;5;124m'\u001B[39m, \u001B[38;5;124m'\u001B[39m\u001B[38;5;124mAANTALOPGEZET_HENNEN\u001B[39m\u001B[38;5;124m'\u001B[39m, \u001B[38;5;124m'\u001B[39m\u001B[38;5;124mAANTALOPGEZET_ONGESEXT\u001B[39m\u001B[38;5;124m'\u001B[39m, \u001B[38;5;124m'\u001B[39m\u001B[38;5;124mLIJNINFO\u001B[39m\u001B[38;5;124m'\u001B[39m, \u001B[38;5;124m'\u001B[39m\u001B[38;5;124mPostalCode\u001B[39m\u001B[38;5;124m'\u001B[39m, \u001B[38;5;124m'\u001B[39m\u001B[38;5;124mCompanyType\u001B[39m\u001B[38;5;124m'\u001B[39m)\n\n\u001B[0;31mNameError\u001B[0m: name 'dfKoppel' is not defined",
       "errorSummary": "<span class='ansi-red-fg'>NameError</span>: name 'dfKoppel' is not defined",
       "errorTraceType": null,
       "metadata": {},
       "type": "ipynbError"
      }
     },
     "output_type": "display_data"
    }
   ],
   "source": [
    "dfFlock = dfKoppel.withColumnRenamed('KPLID','FlockIdentification') \\\n",
    "    .withColumnRenamed('GEBOORTEDATUM','HatchDate') \\\n",
    "    .withColumnRenamed('AFVOERDATUM','RemovalDate') \\\n",
    "    .withColumnRenamed('AANTALOPGEZET','NumberPlaced') \\\n",
    "    .withColumnRenamed('RASCODE','BreedCode') \\\n",
    "    .withColumnRenamed('HDRID','FarmerIdentification') \\\n",
    "    .withColumnRenamed('HOKID','PenIdentification') \\\n",
    "    .withColumnRenamed('RASOMSCHRIJVING','BreedDescription') \\\n",
    "    .withColumnRenamed('AANTALLEVENSDAGEN','NumberOfLifeDays') \\\n",
    "    .withColumnRenamed('OPZETDATUM','PlacementDate') \\\n",
    "    .withColumnRenamed('AANTALOPGEZET_HANEN','NumberOfRoostersPlaced') \\\n",
    "    .withColumnRenamed('AFVOERDATUMGEPLAND','PlannedRemovalDate') \\\n",
    "    .withColumnRenamed('GROEICURVESOORT','GrowthCurve') \\\n",
    "    .withColumnRenamed('PMPKOPPELID', 'MonitoringIdentification') \\\n",
    "    .join(dfFarmer, on=['FarmerIdentification'], how='left_outer') \\\n",
    "    .join(dfPen, on=['PenIdentification'], how='left_outer') \\\n",
    "    .drop('KIPKOPPELID', 'KIPVERBLIJFPLAATSID', 'DATUM_LAMU', 'USER_LAMU', 'MonitoringIdentification', 'PVTID',\n",
    "          'NumberOfRoostersPlaced', 'AANTALOPGEZET_HENNEN', 'AANTALOPGEZET_ONGESEXT', 'LIJNINFO', 'PostalCode', 'CompanyType')"
   ]
  },
  {
   "cell_type": "code",
   "execution_count": 0,
   "metadata": {
    "application/vnd.databricks.v1+cell": {
     "cellMetadata": {
      "byteLimit": 2048000,
      "rowLimit": 10000
     },
     "inputWidgets": {},
     "nuid": "d92b532b-ccd9-4bef-be9b-11ddffa3a4bd",
     "showTitle": false,
     "title": ""
    }
   },
   "outputs": [],
   "source": [
    "dfFlock.write \\\n",
    "    .format(\"parquet\") \\\n",
    "    .mode(\"overwrite\") \\\n",
    "    .save(\"//dfFlock.parquet\")"
   ]
  },
  {
   "cell_type": "markdown",
   "metadata": {
    "application/vnd.databricks.v1+cell": {
     "cellMetadata": {},
     "inputWidgets": {},
     "nuid": "22630197-dc22-42c9-9e4e-28f2a2bb7218",
     "showTitle": false,
     "title": ""
    }
   },
   "source": [
    "# Create events: antibiotics\n",
    "\n",
    "First, make dataset with only antibiotics.\n"
   ]
  },
  {
   "cell_type": "code",
   "execution_count": 0,
   "metadata": {
    "application/vnd.databricks.v1+cell": {
     "cellMetadata": {
      "byteLimit": 2048000,
      "rowLimit": 10000
     },
     "inputWidgets": {},
     "nuid": "2686125e-c8c1-46da-a671-6ec03c4b0e02",
     "showTitle": false,
     "title": ""
    }
   },
   "outputs": [],
   "source": [
    "dfAntibiotics = dfFlockPresentationFull \\\n",
    "    .drop('DiagnosisDescription','DiagnosisViral','DiagnosisBacterial','DiagnosisParasitic','DiagnosisFungal','DiagnosisNonInfectious',\n",
    "        'EtiologyDescription','EtiologyViral','EtiologyBacterial','EtiologyParasitic','EtiologyFungal','EtiologyNonInfectious') \\\n",
    "    .filter(F.col('IsAntibiotics')==\"J\") \\\n",
    "    .filter(F.col('TreatmentSupplyDate') >= \"2013-01-01 00:00:00\") \\\n",
    "    .filter(F.col('TreatmentSupplyDate') <= \"2021-12-31 00:00:00\") \\\n",
    "    .withColumn('KilogramsTreated', (F.col('NumberSupplied')*F.col('KilogramsToTreat'))/F.col('count')) \\\n",
    "    .drop('KilogramsToTreat', 'count')"
   ]
  },
  {
   "cell_type": "code",
   "execution_count": 0,
   "metadata": {
    "application/vnd.databricks.v1+cell": {
     "cellMetadata": {
      "byteLimit": 2048000,
      "rowLimit": 10000
     },
     "inputWidgets": {},
     "nuid": "98f12ca4-85d6-44bb-bfee-34f87ab7ffdd",
     "showTitle": false,
     "title": ""
    }
   },
   "outputs": [],
   "source": [
    "dfAntibiotics.write \\\n",
    "    .format(\"parquet\") \\\n",
    "    .mode(\"overwrite\") \\\n",
    "    .save(\"//dfAntibiotics.parquet\")\n",
    "# first version: 8/7/22\n",
    "# edits:\n",
    "# - 19/07/22 filtered dfFlockPresentation on date (>= 2013),\n",
    "#     grouped etiology codes together in one row per flockPresentationIdentification,\n",
    "#     added distinct() in dfSubscription and in dfAntibiotics (further removes 49 duplicates)\n",
    "# - 22/07/22 added dfSupply for the TreatmentSupplyDate\n",
    "# - 26/07/22 added dfSupply properly, removed VisitReason and Subscription, removed columns about Pen, ResidenceNumber -> PenNumber\n",
    "# - 23/09/22 removed filter contact date (because you don't want to miss any antibiotics), added filter supply date <= 2021 (because otherwise last flocks have antibiotics from 2022 flocks in them)\n",
    "# - 14/11/22 added veterinary practice number (the good one)\n",
    "# - 18/11/22 changed \"VeterinaryPracticeNumber\" to \"VetId\"\n",
    "# - 25/11/22 added pen number correction\n",
    "# - 19/12/22 whole postal code\n",
    "# - 06/05/23 corrected KilogramsTreated: now multiplied by number of packages supplied\n",
    "# - 08/05/23 corrected KilogramsTreated again: now divided by number of pens in one flockpresentation\n",
    "# - 24/10/23 added dfSubscription with treatment days for DDD calculation"
   ]
  },
  {
   "cell_type": "code",
   "execution_count": 0,
   "metadata": {
    "application/vnd.databricks.v1+cell": {
     "cellMetadata": {
      "byteLimit": 2048000,
      "rowLimit": 10000
     },
     "inputWidgets": {},
     "nuid": "6e2eda36-26ea-40b1-96d2-a3c4a6f90cf1",
     "showTitle": false,
     "title": ""
    }
   },
   "outputs": [],
   "source": [
    "dfAntibiotics = spark.read.parquet(\"//dfAntibiotics.parquet\")"
   ]
  },
  {
   "cell_type": "code",
   "execution_count": 0,
   "metadata": {
    "application/vnd.databricks.v1+cell": {
     "cellMetadata": {
      "byteLimit": 2048000,
      "rowLimit": 10000
     },
     "inputWidgets": {},
     "nuid": "f721ab5f-981f-4cae-98e0-fd48fe36afc4",
     "showTitle": true,
     "title": "Events with StructType metadata"
    }
   },
   "outputs": [],
   "source": [
    "# fill in for the specific dataset:\n",
    "Type = \"Antibiotics\"\n",
    "EventDate = \"TreatmentSupplyDate\"\n",
    "Pen = \"PenNumber\"\n",
    "df = dfAntibiotics\n",
    "\n",
    "RightColumns = [\"FarmIdentification\",\n",
    "                Pen,\n",
    "                EventDate,\n",
    "                \"EventType\"]\n",
    "OtherColumns = sorted(list(set(df.columns) - set(RightColumns)))\n",
    "\n",
    "# change df name:\n",
    "# create column EventDate and Type, put all other columns in metadata column, drop all other columns\n",
    "dfAntibioticEventsStruct = df \\\n",
    "    .withColumnRenamed(EventDate, \"EventDate\") \\\n",
    "    .withColumnRenamed(Pen, \"Pen\") \\\n",
    "    .withColumn(\"EventType\", F.lit(Type)) \\\n",
    "    .withColumn(\"MetaData\", F.struct(*OtherColumns)) \\\n",
    "    .select(\"FarmIdentification\", \"Pen\", \"EventDate\", \"EventType\", \"MetaData\")"
   ]
  },
  {
   "cell_type": "code",
   "execution_count": 0,
   "metadata": {
    "application/vnd.databricks.v1+cell": {
     "cellMetadata": {
      "byteLimit": 2048000,
      "rowLimit": 10000
     },
     "inputWidgets": {},
     "nuid": "11cb6c6e-56fe-44ba-aac5-d04f6362f4d7",
     "showTitle": false,
     "title": ""
    }
   },
   "outputs": [],
   "source": [
    "dfAntibioticEventsStruct.write \\\n",
    "    .format(\"parquet\") \\\n",
    "    .mode(\"overwrite\") \\\n",
    "    .save(\"//dfAntibioticEventsStruct.parquet\")\n",
    "# This is with StructType instead of MapType\n",
    "# first version: 29/06/22    (with the dates as DateType)\n",
    "# edits:\n",
    "#    - 07/07/22 Included Pen column\n",
    "#    - 19/7/22 Used the new dfAntibiotics (see changes there)\n",
    "#    - 22/7/22 Used new dfAntibiotics with TreatmentSupplyDate, EventType = \"Antibiotics\", EventDate = \"TreatmentSupplyDate\"\n",
    "#    - 26/7/22 Used new and improved dfAntibiotics with TreatmentSupplyDate, Pen = \"PenNumber\". Changed the columns in MetaData\n",
    "#    - 23/9/22 Changed filters (see dfAntibiotics)\n",
    "#    - 14/11/22 Added veterinary practice number (the right one)\n",
    "#    - 06/05/23 Corrected KilogramsTreated\n",
    "#    - 08/05/23 corrected KilogramsTreated (see dfAntibiotics)\n",
    "#    - 24/10/23 added dfSubscription with treatment days for DDD calculation"
   ]
  },
  {
   "cell_type": "markdown",
   "metadata": {
    "application/vnd.databricks.v1+cell": {
     "cellMetadata": {},
     "inputWidgets": {},
     "nuid": "a8c4f849-2af9-4de5-b6e6-05cafbc0b7eb",
     "showTitle": false,
     "title": ""
    }
   },
   "source": [
    "# Create events: other registrations"
   ]
  },
  {
   "cell_type": "code",
   "execution_count": 0,
   "metadata": {
    "application/vnd.databricks.v1+cell": {
     "cellMetadata": {
      "byteLimit": 2048000,
      "rowLimit": 10000
     },
     "inputWidgets": {},
     "nuid": "efc55a7a-2b2e-402c-84f7-d3d49ca123db",
     "showTitle": true,
     "title": "Other treatments"
    }
   },
   "outputs": [],
   "source": [
    "dfNotAntibiotics = dfFlockPresentationFull \\\n",
    "    .drop('DiagnosisDescription','DiagnosisViral','DiagnosisBacterial','DiagnosisParasitic','DiagnosisFungal','DiagnosisNonInfectious',\n",
    "        'EtiologyDescription','EtiologyViral','EtiologyBacterial','EtiologyParasitic','EtiologyFungal','EtiologyNonInfectious') \\\n",
    "    .filter(F.col('IsAntibiotics')==\"N\") \\\n",
    "    .filter(F.col('TreatmentSupplyDate') >= \"2013-01-01 00:00:00\") \\\n",
    "    .filter(F.col('TreatmentSupplyDate') <= \"2021-12-31 00:00:00\") \\\n",
    "    .drop('KilogramsToTreat', 'count')"
   ]
  },
  {
   "cell_type": "code",
   "execution_count": 0,
   "metadata": {
    "application/vnd.databricks.v1+cell": {
     "cellMetadata": {
      "byteLimit": 2048000,
      "rowLimit": 10000
     },
     "inputWidgets": {},
     "nuid": "44152edd-931f-4b99-92c8-72098034b9f2",
     "showTitle": true,
     "title": "Other treatment Events"
    }
   },
   "outputs": [],
   "source": [
    "# fill in for the specific dataset:\n",
    "Type = \"OtherTreatment\"\n",
    "EventDate = \"TreatmentSupplyDate\"\n",
    "Pen = \"PenNumber\"\n",
    "df = dfNotAntibiotics\n",
    "\n",
    "RightColumns = [\"FarmIdentification\",\n",
    "                Pen,\n",
    "                EventDate,\n",
    "                \"EventType\"]\n",
    "OtherColumns = sorted(list(set(df.columns) - set(RightColumns)))\n",
    "\n",
    "# change df name:\n",
    "# create column EventDate and Type, put all other columns in metadata column, drop all other columns\n",
    "dfOtherTreatmentEventsStruct = df \\\n",
    "    .withColumnRenamed(EventDate, \"EventDate\") \\\n",
    "    .withColumnRenamed(Pen, \"Pen\") \\\n",
    "    .withColumn(\"EventType\", F.lit(Type)) \\\n",
    "    .withColumn(\"MetaData\", F.struct(*OtherColumns)) \\\n",
    "    .select(\"FarmIdentification\", \"Pen\", \"EventDate\", \"EventType\", \"MetaData\")"
   ]
  },
  {
   "cell_type": "code",
   "execution_count": 0,
   "metadata": {
    "application/vnd.databricks.v1+cell": {
     "cellMetadata": {
      "byteLimit": 2048000,
      "rowLimit": 10000
     },
     "inputWidgets": {},
     "nuid": "b6143cb7-43e2-4005-b6ea-18df3dff5b4e",
     "showTitle": false,
     "title": ""
    }
   },
   "outputs": [],
   "source": [
    "dfOtherTreatmentEventsStruct.write \\\n",
    "    .format(\"parquet\") \\\n",
    "    .mode(\"overwrite\") \\\n",
    "    .save(\"//dfOtherTreatmentEventsStruct.parquet\")\n",
    "\n",
    "# first version: 14/11/22"
   ]
  },
  {
   "cell_type": "code",
   "execution_count": 0,
   "metadata": {
    "application/vnd.databricks.v1+cell": {
     "cellMetadata": {
      "byteLimit": 2048000,
      "rowLimit": 10000
     },
     "inputWidgets": {},
     "nuid": "0c58e033-5ff6-4c85-816e-85f174b45df5",
     "showTitle": true,
     "title": "No treatment"
    }
   },
   "outputs": [],
   "source": [
    "dfNoTreatment = dfFlockPresentationFull \\\n",
    "    .drop('DiagnosisDescription','DiagnosisViral','DiagnosisBacterial','DiagnosisParasitic','DiagnosisFungal','DiagnosisNonInfectious',\n",
    "        'EtiologyDescription','EtiologyViral','EtiologyBacterial','EtiologyParasitic','EtiologyFungal','EtiologyNonInfectious') \\\n",
    "    .filter(F.col('ContactDate') >= \"2013-01-01 00:00:00\") \\\n",
    "    .filter(F.col('ContactDate') <= \"2021-12-31 00:00:00\") \\\n",
    "    .filter(F.col('TreatmentSupplyDate').isNull()) \\\n",
    "    .drop('KilogramsToTreat', 'count')"
   ]
  },
  {
   "cell_type": "code",
   "execution_count": 0,
   "metadata": {
    "application/vnd.databricks.v1+cell": {
     "cellMetadata": {
      "byteLimit": 2048000,
      "rowLimit": 10000
     },
     "inputWidgets": {},
     "nuid": "6270810b-3f93-4b1a-8071-42df64f17506",
     "showTitle": true,
     "title": "No treatment Events"
    }
   },
   "outputs": [],
   "source": [
    "# fill in for the specific dataset:\n",
    "Type = \"NoTreatment\"\n",
    "EventDate = \"TreatmentSupplyDate\"\n",
    "Pen = \"PenNumber\"\n",
    "df = dfNoTreatment\n",
    "\n",
    "RightColumns = [\"FarmIdentification\",\n",
    "                Pen,\n",
    "                EventDate,\n",
    "                \"EventType\"]\n",
    "OtherColumns = sorted(list(set(df.columns) - set(RightColumns)))\n",
    "\n",
    "# change df name:\n",
    "# create column EventDate and Type, put all other columns in metadata column, drop all other columns\n",
    "dfNoTreatmentEventsStruct = df \\\n",
    "    .withColumnRenamed(EventDate, \"EventDate\") \\\n",
    "    .withColumnRenamed(Pen, \"Pen\") \\\n",
    "    .withColumn(\"EventType\", F.lit(Type)) \\\n",
    "    .withColumn(\"MetaData\", F.struct(*OtherColumns)) \\\n",
    "    .select(\"FarmIdentification\", \"Pen\", \"EventDate\", \"EventType\", \"MetaData\")"
   ]
  },
  {
   "cell_type": "code",
   "execution_count": 0,
   "metadata": {
    "application/vnd.databricks.v1+cell": {
     "cellMetadata": {
      "byteLimit": 2048000,
      "rowLimit": 10000
     },
     "inputWidgets": {},
     "nuid": "0589ba64-3404-4029-b698-77b8e1a823ec",
     "showTitle": false,
     "title": ""
    }
   },
   "outputs": [],
   "source": [
    "dfNoTreatmentEventsStruct.write \\\n",
    "    .format(\"parquet\") \\\n",
    "    .mode(\"overwrite\") \\\n",
    "    .save(\"//dfNoTreatmentEventsStruct.parquet\")\n",
    "\n",
    "# first version: 14/11/22\n",
    "# edits:\n",
    "# - 22/11/22 corrected eventDate to 'TreatmentSupplyDate'"
   ]
  }
 ],
 "metadata": {
  "application/vnd.databricks.v1+notebook": {
   "dashboards": [
    {
     "elements": [],
     "globalVars": {},
     "guid": "",
     "layoutOption": {
      "grid": true,
      "stack": true
     },
     "nuid": "96ddc8f4-fcfc-4f1d-bf72-6c37a7e027ce",
     "origId": 4069010952733337,
     "title": "Untitled",
     "version": "DashboardViewV1",
     "width": 1024
    }
   ],
   "language": "python",
   "notebookMetadata": {
    "pythonIndentUnit": 4
   },
   "notebookName": "1_1 Data CRA",
   "widgets": {}
  }
 },
 "nbformat": 4,
 "nbformat_minor": 0
}
