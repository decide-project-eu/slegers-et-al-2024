{
 "cells": [
  {
   "cell_type": "code",
   "execution_count": 0,
   "metadata": {
    "application/vnd.databricks.v1+cell": {
     "cellMetadata": {
      "byteLimit": 2048000,
      "rowLimit": 10000
     },
     "inputWidgets": {},
     "nuid": "5be7293e-8676-4958-8e40-930527c7bc73",
     "showTitle": false,
     "title": ""
    }
   },
   "outputs": [],
   "source": [
    "%scala\n",
    "#fill in directory and key\n",
    "spark.sparkContext.hadoopConfiguration.set()"
   ]
  },
  {
   "cell_type": "code",
   "execution_count": 0,
   "metadata": {
    "application/vnd.databricks.v1+cell": {
     "cellMetadata": {
      "byteLimit": 2048000,
      "rowLimit": 10000
     },
     "inputWidgets": {},
     "nuid": "62d273d8-072e-4985-8768-2436e809f143",
     "showTitle": false,
     "title": ""
    }
   },
   "outputs": [],
   "source": [
    "from pyspark.sql import functions as F\n",
    "from pyspark.sql import Row, Column\n",
    "from pyspark.sql.types import ArrayType, StringType, StructType, StructField, DoubleType, TimestampType, FloatType, IntegerType"
   ]
  },
  {
   "cell_type": "markdown",
   "metadata": {
    "application/vnd.databricks.v1+cell": {
     "cellMetadata": {
      "byteLimit": 2048000,
      "rowLimit": 10000
     },
     "inputWidgets": {},
     "nuid": "8c6d8180-0f65-44bb-927f-388cbb7c36e2",
     "showTitle": false,
     "title": ""
    }
   },
   "source": [
    "# Combine event dataframes:\n",
    "\n",
    "From CRA:\n",
    "- dfAntibioticEvents\n",
    "\n",
    "\n",
    "From Slaughter:\n",
    "- dfBirthEvents\n",
    "- dfThinningEvents\n",
    "- dfHatchEvents\n",
    "- dfDeathEvents\n",
    "- dfRelocationEvents"
   ]
  },
  {
   "cell_type": "code",
   "execution_count": 0,
   "metadata": {
    "application/vnd.databricks.v1+cell": {
     "cellMetadata": {
      "byteLimit": 2048000,
      "rowLimit": 10000
     },
     "inputWidgets": {},
     "nuid": "863cdfbd-05e6-4fcb-b192-94400eff5f21",
     "showTitle": false,
     "title": ""
    }
   },
   "outputs": [],
   "source": [
    "dfAntibioticEventsStruct = spark.read.parquet(\"//dfAntibioticEventsStruct.parquet\")"
   ]
  },
  {
   "cell_type": "code",
   "execution_count": 0,
   "metadata": {
    "application/vnd.databricks.v1+cell": {
     "cellMetadata": {
      "byteLimit": 2048000,
      "rowLimit": 10000
     },
     "inputWidgets": {},
     "nuid": "3def5ab2-8bf8-4df2-9c77-4c04a46585f3",
     "showTitle": false,
     "title": ""
    }
   },
   "outputs": [],
   "source": [
    "dfHatchEventsStruct = spark.read.parquet(\"//dfHatchEventsStruct.parquet\")"
   ]
  },
  {
   "cell_type": "code",
   "execution_count": 0,
   "metadata": {
    "application/vnd.databricks.v1+cell": {
     "cellMetadata": {
      "byteLimit": 2048000,
      "rowLimit": 10000
     },
     "inputWidgets": {},
     "nuid": "317ed2f0-8a09-4324-96b7-1923cf4a3ec5",
     "showTitle": false,
     "title": ""
    }
   },
   "outputs": [],
   "source": [
    "dfSlaughterEventsStruct = spark.read.parquet(\"//dfSlaughterEventsStruct.parquet\")"
   ]
  },
  {
   "cell_type": "code",
   "execution_count": 0,
   "metadata": {
    "application/vnd.databricks.v1+cell": {
     "cellMetadata": {
      "byteLimit": 2048000,
      "rowLimit": 10000
     },
     "inputWidgets": {},
     "nuid": "ac89dd3d-cddd-4766-9850-2652d57f2ed2",
     "showTitle": false,
     "title": ""
    }
   },
   "outputs": [],
   "source": [
    "dfThinningEventsStruct = spark.read.parquet(\"//dfThinningEventsStruct.parquet\")"
   ]
  },
  {
   "cell_type": "code",
   "execution_count": 0,
   "metadata": {
    "application/vnd.databricks.v1+cell": {
     "cellMetadata": {
      "byteLimit": 2048000,
      "rowLimit": 10000
     },
     "inputWidgets": {},
     "nuid": "eacca75b-169d-4e31-a2f1-bd87a8f8ce89",
     "showTitle": false,
     "title": ""
    }
   },
   "outputs": [],
   "source": [
    "dfDeathEventsStruct = spark.read.parquet(\"//dfDeathEventsStruct.parquet\")"
   ]
  },
  {
   "cell_type": "code",
   "execution_count": 0,
   "metadata": {
    "application/vnd.databricks.v1+cell": {
     "cellMetadata": {
      "byteLimit": 2048000,
      "rowLimit": 10000
     },
     "inputWidgets": {},
     "nuid": "4fcacadf-9b5e-428b-9e9f-607f3fcdb7b9",
     "showTitle": false,
     "title": ""
    }
   },
   "outputs": [],
   "source": [
    "dfRelocationEventsStruct = spark.read.parquet(\"//dfRelocationEventsStruct.parquet\")"
   ]
  },
  {
   "cell_type": "code",
   "execution_count": 0,
   "metadata": {
    "application/vnd.databricks.v1+cell": {
     "cellMetadata": {
      "byteLimit": 2048000,
      "rowLimit": 10000
     },
     "inputWidgets": {},
     "nuid": "4e7ced2d-b36f-4faa-9711-16ba24ea8024",
     "showTitle": true,
     "title": "Union of all events"
    }
   },
   "outputs": [],
   "source": [
    "dfEvents2 = dfAntibioticEventsStruct \\\n",
    "    .unionByName(dfHatchEventsStruct, allowMissingColumns=True) \\\n",
    "    .unionByName(dfThinningEventsStruct, allowMissingColumns=True) \\\n",
    "    .unionByName(dfSlaughterEventsStruct, allowMissingColumns=True) \\\n",
    "    .unionByName(dfDeathEventsStruct, allowMissingColumns=True) \\\n",
    "    .unionByName(dfRelocationEventsStruct, allowMissingColumns=True) \\\n",
    "    .groupby('FarmIdentification','Pen') \\\n",
    "    .agg(F.sort_array(F.collect_list(F.struct(\"EventDate\",\"EventType\", \"MetaData\"))).alias(\"Events\"))"
   ]
  },
  {
   "cell_type": "code",
   "execution_count": 0,
   "metadata": {
    "application/vnd.databricks.v1+cell": {
     "cellMetadata": {
      "byteLimit": 2048000,
      "rowLimit": 10000
     },
     "inputWidgets": {},
     "nuid": "4b5fb06c-be90-4b41-aebc-95caf129c70c",
     "showTitle": true,
     "title": "Save dfEvents"
    }
   },
   "outputs": [],
   "source": [
    "dfEvents2.write \\\n",
    "    .format(\"parquet\") \\\n",
    "    .mode(\"overwrite\") \\\n",
    "    .save(\"//dfEvents2.parquet\")\n",
    "\n",
    "# first version: 15/09/23 (based on dfEvents with NDV data)\n",
    "# edits:\n",
    "# 19/09/23: changed slaughter data, now with link to PMP\n",
    "# 19/09/23: changed slaughter data: now with postal code, fixed mistakes with differing hatch dates\n",
    "# 24/10/23: changed antibiotic events: added subscription data"
   ]
  }
 ],
 "metadata": {
  "application/vnd.databricks.v1+notebook": {
   "dashboards": [],
   "language": "python",
   "notebookMetadata": {
    "pythonIndentUnit": 4
   },
   "notebookName": "2_1 Merging Events",
   "widgets": {}
  }
 },
 "nbformat": 4,
 "nbformat_minor": 0
}
